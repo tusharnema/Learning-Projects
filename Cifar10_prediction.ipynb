{
  "nbformat": 4,
  "nbformat_minor": 0,
  "metadata": {
    "colab": {
      "name": "Cifar10_prediction.ipynb",
      "version": "0.3.2",
      "views": {},
      "default_view": {},
      "provenance": [],
      "collapsed_sections": []
    },
    "kernelspec": {
      "name": "python3",
      "display_name": "Python 3"
    }
  },
  "cells": [
    {
      "metadata": {
        "id": "r3w9qapb-NlV",
        "colab_type": "code",
        "colab": {
          "autoexec": {
            "startup": false,
            "wait_interval": 0
          },
          "base_uri": "https://localhost:8080/",
          "height": 2278
        },
        "outputId": "29ba32f0-43b8-4b47-ec47-1e459e8d747b",
        "executionInfo": {
          "status": "ok",
          "timestamp": 1532083580259,
          "user_tz": -330,
          "elapsed": 35290,
          "user": {
            "displayName": "Tushar Nema",
            "photoUrl": "https://lh3.googleusercontent.com/a/default-user=s128",
            "userId": "116547679340556707397"
          }
        }
      },
      "cell_type": "code",
      "source": [
        "# Install a Drive FUSE wrapper.\n",
        "# https://github.com/astrada/google-drive-ocamlfuse\n",
        "!apt-get update -qq 2>&1 > /dev/null\n",
        "!apt-get install -y -qq software-properties-common python-software-properties module-init-tools\n",
        "!add-apt-repository -y ppa:alessandro-strada/ppa 2>&1 > /dev/null\n",
        "!apt-get update -qq 2>&1 > /dev/null\n",
        "!apt-get -y install -qq google-drive-ocamlfuse fuse"
      ],
      "execution_count": 4,
      "outputs": [
        {
          "output_type": "stream",
          "text": [
            "Preconfiguring packages ...\n",
            "Selecting previously unselected package cron.\n",
            "(Reading database ... 18396 files and directories currently installed.)\n",
            "Preparing to unpack .../00-cron_3.0pl1-128ubuntu5_amd64.deb ...\n",
            "Unpacking cron (3.0pl1-128ubuntu5) ...\n",
            "Selecting previously unselected package libapparmor1:amd64.\n",
            "Preparing to unpack .../01-libapparmor1_2.11.0-2ubuntu17.1_amd64.deb ...\n",
            "Unpacking libapparmor1:amd64 (2.11.0-2ubuntu17.1) ...\n",
            "Selecting previously unselected package libdbus-1-3:amd64.\n",
            "Preparing to unpack .../02-libdbus-1-3_1.10.22-1ubuntu1_amd64.deb ...\n",
            "Unpacking libdbus-1-3:amd64 (1.10.22-1ubuntu1) ...\n",
            "Selecting previously unselected package dbus.\n",
            "Preparing to unpack .../03-dbus_1.10.22-1ubuntu1_amd64.deb ...\n",
            "Unpacking dbus (1.10.22-1ubuntu1) ...\n",
            "Selecting previously unselected package dirmngr.\n",
            "Preparing to unpack .../04-dirmngr_2.1.15-1ubuntu8.1_amd64.deb ...\n",
            "Unpacking dirmngr (2.1.15-1ubuntu8.1) ...\n",
            "Selecting previously unselected package distro-info-data.\n",
            "Preparing to unpack .../05-distro-info-data_0.36ubuntu0.2_all.deb ...\n",
            "Unpacking distro-info-data (0.36ubuntu0.2) ...\n",
            "Selecting previously unselected package libkmod2:amd64.\n",
            "Preparing to unpack .../06-libkmod2_24-1ubuntu2_amd64.deb ...\n",
            "Unpacking libkmod2:amd64 (24-1ubuntu2) ...\n",
            "Selecting previously unselected package kmod.\n",
            "Preparing to unpack .../07-kmod_24-1ubuntu2_amd64.deb ...\n",
            "Unpacking kmod (24-1ubuntu2) ...\n",
            "Selecting previously unselected package lsb-release.\n",
            "Preparing to unpack .../08-lsb-release_9.20160110ubuntu5_all.deb ...\n",
            "Unpacking lsb-release (9.20160110ubuntu5) ...\n",
            "Selecting previously unselected package libgirepository-1.0-1:amd64.\n",
            "Preparing to unpack .../09-libgirepository-1.0-1_1.54.1-1_amd64.deb ...\n",
            "Unpacking libgirepository-1.0-1:amd64 (1.54.1-1) ...\n",
            "Selecting previously unselected package gir1.2-glib-2.0:amd64.\n",
            "Preparing to unpack .../10-gir1.2-glib-2.0_1.54.1-1_amd64.deb ...\n",
            "Unpacking gir1.2-glib-2.0:amd64 (1.54.1-1) ...\n",
            "Selecting previously unselected package iso-codes.\n",
            "Preparing to unpack .../11-iso-codes_3.75-1_all.deb ...\n",
            "Unpacking iso-codes (3.75-1) ...\n",
            "Selecting previously unselected package libdbus-glib-1-2:amd64.\n",
            "Preparing to unpack .../12-libdbus-glib-1-2_0.108-2_amd64.deb ...\n",
            "Unpacking libdbus-glib-1-2:amd64 (0.108-2) ...\n",
            "Selecting previously unselected package python-apt-common.\n",
            "Preparing to unpack .../13-python-apt-common_1.4.0~beta3build2_all.deb ...\n",
            "Unpacking python-apt-common (1.4.0~beta3build2) ...\n",
            "Selecting previously unselected package python3-apt.\n",
            "Preparing to unpack .../14-python3-apt_1.4.0~beta3build2_amd64.deb ...\n",
            "Unpacking python3-apt (1.4.0~beta3build2) ...\n",
            "Selecting previously unselected package python3-dbus.\n",
            "Preparing to unpack .../15-python3-dbus_1.2.4-1build3_amd64.deb ...\n",
            "Unpacking python3-dbus (1.2.4-1build3) ...\n",
            "Selecting previously unselected package python3-gi.\n",
            "Preparing to unpack .../16-python3-gi_3.24.1-2build1_amd64.deb ...\n",
            "Unpacking python3-gi (3.24.1-2build1) ...\n",
            "Selecting previously unselected package module-init-tools.\n",
            "Preparing to unpack .../17-module-init-tools_24-1ubuntu2_all.deb ...\n",
            "Unpacking module-init-tools (24-1ubuntu2) ...\n",
            "Selecting previously unselected package python-apt.\n",
            "Preparing to unpack .../18-python-apt_1.4.0~beta3build2_amd64.deb ...\n",
            "Unpacking python-apt (1.4.0~beta3build2) ...\n",
            "Selecting previously unselected package python-pycurl.\n",
            "Preparing to unpack .../19-python-pycurl_7.43.0-2build2_amd64.deb ...\n",
            "Unpacking python-pycurl (7.43.0-2build2) ...\n",
            "Selecting previously unselected package python-software-properties.\n",
            "Preparing to unpack .../20-python-software-properties_0.96.24.17_all.deb ...\n",
            "Unpacking python-software-properties (0.96.24.17) ...\n",
            "Selecting previously unselected package python3-software-properties.\n",
            "Preparing to unpack .../21-python3-software-properties_0.96.24.17_all.deb ...\n",
            "Unpacking python3-software-properties (0.96.24.17) ...\n",
            "Selecting previously unselected package software-properties-common.\n",
            "Preparing to unpack .../22-software-properties-common_0.96.24.17_all.deb ...\n",
            "Unpacking software-properties-common (0.96.24.17) ...\n",
            "Selecting previously unselected package unattended-upgrades.\n",
            "Preparing to unpack .../23-unattended-upgrades_0.98ubuntu1.1_all.deb ...\n",
            "Unpacking unattended-upgrades (0.98ubuntu1.1) ...\n",
            "Setting up python-apt-common (1.4.0~beta3build2) ...\n",
            "Setting up python3-apt (1.4.0~beta3build2) ...\n",
            "Setting up iso-codes (3.75-1) ...\n",
            "Setting up distro-info-data (0.36ubuntu0.2) ...\n",
            "Setting up python-pycurl (7.43.0-2build2) ...\n",
            "Setting up lsb-release (9.20160110ubuntu5) ...\n",
            "Setting up libgirepository-1.0-1:amd64 (1.54.1-1) ...\n",
            "Setting up libkmod2:amd64 (24-1ubuntu2) ...\n",
            "Setting up gir1.2-glib-2.0:amd64 (1.54.1-1) ...\n"
          ],
          "name": "stdout"
        },
        {
          "output_type": "stream",
          "text": [
            "Processing triggers for libc-bin (2.26-0ubuntu2.1) ...\n",
            "Setting up libapparmor1:amd64 (2.11.0-2ubuntu17.1) ...\n",
            "Setting up unattended-upgrades (0.98ubuntu1.1) ...\n",
            "\n",
            "Creating config file /etc/apt/apt.conf.d/20auto-upgrades with new version\n",
            "\n",
            "Creating config file /etc/apt/apt.conf.d/50unattended-upgrades with new version\n",
            "invoke-rc.d: could not determine current runlevel\n",
            "invoke-rc.d: policy-rc.d denied execution of start.\n",
            "Setting up dirmngr (2.1.15-1ubuntu8.1) ...\n",
            "Setting up cron (3.0pl1-128ubuntu5) ...\n",
            "Adding group `crontab' (GID 102) ...\n",
            "Done.\n",
            "update-rc.d: warning: start and stop actions are no longer supported; falling back to defaults\n",
            "update-rc.d: warning: stop runlevel arguments (1) do not match cron Default-Stop values (none)\n",
            "invoke-rc.d: could not determine current runlevel\n",
            "invoke-rc.d: policy-rc.d denied execution of start.\n",
            "Setting up libdbus-1-3:amd64 (1.10.22-1ubuntu1) ...\n",
            "Setting up kmod (24-1ubuntu2) ...\n",
            "Setting up libdbus-glib-1-2:amd64 (0.108-2) ...\n",
            "Setting up python3-gi (3.24.1-2build1) ...\n",
            "Setting up module-init-tools (24-1ubuntu2) ...\n",
            "Setting up python3-software-properties (0.96.24.17) ...\n",
            "Setting up dbus (1.10.22-1ubuntu1) ...\n",
            "Setting up python-apt (1.4.0~beta3build2) ...\n",
            "Setting up python3-dbus (1.2.4-1build3) ...\n",
            "Setting up python-software-properties (0.96.24.17) ...\n",
            "Setting up software-properties-common (0.96.24.17) ...\n",
            "Processing triggers for libc-bin (2.26-0ubuntu2.1) ...\n",
            "Processing triggers for dbus (1.10.22-1ubuntu1) ...\n",
            "gpg: keybox '/tmp/tmp55oxtq1v/pubring.gpg' created\n",
            "gpg: /tmp/tmp55oxtq1v/trustdb.gpg: trustdb created\n",
            "gpg: key AD5F235DF639B041: public key \"Launchpad PPA for Alessandro Strada\" imported\n",
            "gpg: Total number processed: 1\n",
            "gpg:               imported: 1\n",
            "Warning: apt-key output should not be parsed (stdout is not a terminal)\n",
            "Selecting previously unselected package libfuse2:amd64.\n",
            "(Reading database ... 19804 files and directories currently installed.)\n",
            "Preparing to unpack .../libfuse2_2.9.7-1ubuntu1_amd64.deb ...\n",
            "Unpacking libfuse2:amd64 (2.9.7-1ubuntu1) ...\n",
            "Selecting previously unselected package fuse.\n",
            "Preparing to unpack .../fuse_2.9.7-1ubuntu1_amd64.deb ...\n",
            "Unpacking fuse (2.9.7-1ubuntu1) ...\n",
            "Selecting previously unselected package google-drive-ocamlfuse.\n",
            "Preparing to unpack .../google-drive-ocamlfuse_0.6.21-0ubuntu2_amd64.deb ...\n",
            "Unpacking google-drive-ocamlfuse (0.6.21-0ubuntu2) ...\n",
            "Setting up libfuse2:amd64 (2.9.7-1ubuntu1) ...\n",
            "Processing triggers for libc-bin (2.26-0ubuntu2.1) ...\n",
            "Setting up fuse (2.9.7-1ubuntu1) ...\n",
            "Setting up google-drive-ocamlfuse (0.6.21-0ubuntu2) ...\n"
          ],
          "name": "stdout"
        }
      ]
    },
    {
      "metadata": {
        "id": "bxpVuVO_-r04",
        "colab_type": "code",
        "colab": {
          "autoexec": {
            "startup": false,
            "wait_interval": 0
          }
        }
      },
      "cell_type": "code",
      "source": [
        "# Generate auth tokens for Colab\n",
        "from google.colab import auth\n",
        "auth.authenticate_user()"
      ],
      "execution_count": 0,
      "outputs": []
    },
    {
      "metadata": {
        "id": "qCA-Y1cz-744",
        "colab_type": "code",
        "colab": {
          "autoexec": {
            "startup": false,
            "wait_interval": 0
          },
          "base_uri": "https://localhost:8080/",
          "height": 174
        },
        "outputId": "2ed3696f-8fba-4bc2-f5f4-a3f159c20a8b",
        "executionInfo": {
          "status": "ok",
          "timestamp": 1532083666351,
          "user_tz": -330,
          "elapsed": 17460,
          "user": {
            "displayName": "Tushar Nema",
            "photoUrl": "https://lh3.googleusercontent.com/a/default-user=s128",
            "userId": "116547679340556707397"
          }
        }
      },
      "cell_type": "code",
      "source": [
        "# Generate creds for the Drive FUSE library.\n",
        "from oauth2client.client import GoogleCredentials\n",
        "creds = GoogleCredentials.get_application_default()\n",
        "import getpass\n",
        "# Work around misordering of STREAM and STDIN in Jupyter.\n",
        "# https://github.com/jupyter/notebook/issues/3159\n",
        "prompt = !google-drive-ocamlfuse -headless -id={creds.client_id} -secret={creds.client_secret} < /dev/null 2>&1 | grep URL\n",
        "vcode = getpass.getpass(prompt[0] + '\\n\\nEnter verification code: ')\n",
        "!echo {vcode} | google-drive-ocamlfuse -headless -id={creds.client_id} -secret={creds.client_secret}"
      ],
      "execution_count": 6,
      "outputs": [
        {
          "output_type": "stream",
          "text": [
            "Please, open the following URL in a web browser: https://accounts.google.com/o/oauth2/auth?client_id=32555940559.apps.googleusercontent.com&redirect_uri=urn%3Aietf%3Awg%3Aoauth%3A2.0%3Aoob&scope=https%3A%2F%2Fwww.googleapis.com%2Fauth%2Fdrive&response_type=code&access_type=offline&approval_prompt=force\n",
            "\n",
            "Enter verification code: ··········\n",
            "Please, open the following URL in a web browser: https://accounts.google.com/o/oauth2/auth?client_id=32555940559.apps.googleusercontent.com&redirect_uri=urn%3Aietf%3Awg%3Aoauth%3A2.0%3Aoob&scope=https%3A%2F%2Fwww.googleapis.com%2Fauth%2Fdrive&response_type=code&access_type=offline&approval_prompt=force\n",
            "Please enter the verification code: Access token retrieved correctly.\n"
          ],
          "name": "stdout"
        }
      ]
    },
    {
      "metadata": {
        "id": "VQHEtSiS_LLi",
        "colab_type": "code",
        "colab": {
          "autoexec": {
            "startup": false,
            "wait_interval": 0
          },
          "base_uri": "https://localhost:8080/",
          "height": 51
        },
        "outputId": "56af1118-aeb9-40ba-d8a1-5be957daae96",
        "executionInfo": {
          "status": "ok",
          "timestamp": 1532083677128,
          "user_tz": -330,
          "elapsed": 5584,
          "user": {
            "displayName": "Tushar Nema",
            "photoUrl": "https://lh3.googleusercontent.com/a/default-user=s128",
            "userId": "116547679340556707397"
          }
        }
      },
      "cell_type": "code",
      "source": [
        "# Create a directory and mount Google Drive using that directory.\n",
        "!mkdir -p drive\n",
        "!google-drive-ocamlfuse drive\n",
        "\n",
        "print('Files in Drive:')\n",
        "!ls drive/Datasets"
      ],
      "execution_count": 7,
      "outputs": [
        {
          "output_type": "stream",
          "text": [
            "Files in Drive:\n",
            "dog.jpg\n"
          ],
          "name": "stdout"
        }
      ]
    },
    {
      "metadata": {
        "id": "CujfZ7VY_YGf",
        "colab_type": "code",
        "colab": {
          "autoexec": {
            "startup": false,
            "wait_interval": 0
          },
          "base_uri": "https://localhost:8080/",
          "height": 34
        },
        "outputId": "168c6ada-7d37-4135-e2f4-702d038d7719",
        "executionInfo": {
          "status": "ok",
          "timestamp": 1532012525722,
          "user_tz": -330,
          "elapsed": 3188,
          "user": {
            "displayName": "Tushar Nema",
            "photoUrl": "https://lh3.googleusercontent.com/a/default-user=s128",
            "userId": "116547679340556707397"
          }
        }
      },
      "cell_type": "code",
      "source": [
        "!ls drive/Datasets"
      ],
      "execution_count": 9,
      "outputs": [
        {
          "output_type": "stream",
          "text": [
            "CIFAR10.csv\r\n"
          ],
          "name": "stdout"
        }
      ]
    },
    {
      "metadata": {
        "id": "nlQs6AGV_jDj",
        "colab_type": "code",
        "colab": {
          "autoexec": {
            "startup": false,
            "wait_interval": 0
          }
        }
      },
      "cell_type": "code",
      "source": [
        "import pandas as pd\n",
        "import matplotlib.pyplot as plt\n",
        "import seaborn as sns\n",
        "import numpy as np"
      ],
      "execution_count": 0,
      "outputs": []
    },
    {
      "metadata": {
        "id": "0EO_NY3AEIGr",
        "colab_type": "code",
        "colab": {
          "autoexec": {
            "startup": false,
            "wait_interval": 0
          }
        }
      },
      "cell_type": "code",
      "source": [
        "from keras.datasets import cifar10\n",
        "\n",
        "\n"
      ],
      "execution_count": 0,
      "outputs": []
    },
    {
      "metadata": {
        "id": "f5JnRu2VEQKB",
        "colab_type": "code",
        "colab": {
          "autoexec": {
            "startup": false,
            "wait_interval": 0
          }
        }
      },
      "cell_type": "code",
      "source": [
        "from keras.utils import np_utils\n",
        "from keras.models import Sequential"
      ],
      "execution_count": 0,
      "outputs": []
    },
    {
      "metadata": {
        "id": "sC4kUuslJ2S7",
        "colab_type": "code",
        "colab": {
          "autoexec": {
            "startup": false,
            "wait_interval": 0
          }
        }
      },
      "cell_type": "code",
      "source": [
        "from keras.layers.core import Dense,Dropout, Activation,Flatten"
      ],
      "execution_count": 0,
      "outputs": []
    },
    {
      "metadata": {
        "id": "lCbtvmPgJ-It",
        "colab_type": "code",
        "colab": {
          "autoexec": {
            "startup": false,
            "wait_interval": 0
          }
        }
      },
      "cell_type": "code",
      "source": [
        "from keras.layers.convolutional import Conv2D, MaxPooling2D"
      ],
      "execution_count": 0,
      "outputs": []
    },
    {
      "metadata": {
        "id": "ULka_zc4KHTX",
        "colab_type": "code",
        "colab": {
          "autoexec": {
            "startup": false,
            "wait_interval": 0
          }
        }
      },
      "cell_type": "code",
      "source": [
        "from keras.optimizers import SGD, Adam, RMSprop\n",
        "# fix random seed for reproducibility\n",
        "np.random.seed(7)"
      ],
      "execution_count": 0,
      "outputs": []
    },
    {
      "metadata": {
        "id": "VEcUJimtKQll",
        "colab_type": "code",
        "colab": {
          "autoexec": {
            "startup": false,
            "wait_interval": 0
          }
        }
      },
      "cell_type": "code",
      "source": [
        "Img_channels=3"
      ],
      "execution_count": 0,
      "outputs": []
    },
    {
      "metadata": {
        "id": "9VV8g3FxKeYY",
        "colab_type": "code",
        "colab": {
          "autoexec": {
            "startup": false,
            "wait_interval": 0
          }
        }
      },
      "cell_type": "code",
      "source": [
        "Img_rows=32\n",
        "Img_cols=32"
      ],
      "execution_count": 0,
      "outputs": []
    },
    {
      "metadata": {
        "id": "WegU1YSnKhzV",
        "colab_type": "code",
        "colab": {
          "autoexec": {
            "startup": false,
            "wait_interval": 0
          }
        }
      },
      "cell_type": "code",
      "source": [
        "#constants\n",
        "batch_size=128\n",
        "epoch=35\n",
        "classes=10\n",
        "verbose=2\n",
        "validation_split=0.2\n",
        "optim=Adam()\n"
      ],
      "execution_count": 0,
      "outputs": []
    },
    {
      "metadata": {
        "id": "oxuySUVHK1Z9",
        "colab_type": "code",
        "colab": {
          "autoexec": {
            "startup": false,
            "wait_interval": 0
          }
        }
      },
      "cell_type": "code",
      "source": [
        "#Load Dataset\n",
        "\n",
        "(X_train, Y_train), (X_test, Y_test)=cifar10.load_data()"
      ],
      "execution_count": 0,
      "outputs": []
    },
    {
      "metadata": {
        "id": "F2RITNNOLqDy",
        "colab_type": "code",
        "colab": {
          "autoexec": {
            "startup": false,
            "wait_interval": 0
          },
          "base_uri": "https://localhost:8080/",
          "height": 85
        },
        "outputId": "5e91eb12-6dc7-42bc-8070-d0602a03d39a",
        "executionInfo": {
          "status": "ok",
          "timestamp": 1532088699602,
          "user_tz": -330,
          "elapsed": 749,
          "user": {
            "displayName": "Tushar Nema",
            "photoUrl": "https://lh3.googleusercontent.com/a/default-user=s128",
            "userId": "116547679340556707397"
          }
        }
      },
      "cell_type": "code",
      "source": [
        "print(np.unique(Y_train))\n",
        "print(X_train.shape)\n",
        "print(Y_train.shape)\n",
        "print(X_test.shape)"
      ],
      "execution_count": 66,
      "outputs": [
        {
          "output_type": "stream",
          "text": [
            "[0 1 2 3 4 5 6 7 8 9]\n",
            "(50000, 32, 32, 3)\n",
            "(50000, 1)\n",
            "(10000, 32, 32, 3)\n"
          ],
          "name": "stdout"
        }
      ]
    },
    {
      "metadata": {
        "id": "mmd6T544MHgg",
        "colab_type": "code",
        "colab": {
          "autoexec": {
            "startup": false,
            "wait_interval": 0
          },
          "base_uri": "https://localhost:8080/",
          "height": 364
        },
        "outputId": "64927ec2-025d-4a4f-fa44-af1406a60aac",
        "executionInfo": {
          "status": "ok",
          "timestamp": 1532083784616,
          "user_tz": -330,
          "elapsed": 1608,
          "user": {
            "displayName": "Tushar Nema",
            "photoUrl": "https://lh3.googleusercontent.com/a/default-user=s128",
            "userId": "116547679340556707397"
          }
        }
      },
      "cell_type": "code",
      "source": [
        "plt.imshow(X_train[11])\n",
        "plt.plot()"
      ],
      "execution_count": 35,
      "outputs": [
        {
          "output_type": "execute_result",
          "data": {
            "text/plain": [
              "[]"
            ]
          },
          "metadata": {
            "tags": []
          },
          "execution_count": 35
        },
        {
          "output_type": "display_data",
          "data": {
            "image/png": "[encoded data removed]",
            "text/plain": [
              "<matplotlib.figure.Figure at 0x7f234b6284a8>"
            ]
          },
          "metadata": {
            "tags": []
          }
        }
      ]
    },
    {
      "metadata": {
        "id": "ktBDU4tBMNcz",
        "colab_type": "code",
        "colab": {
          "autoexec": {
            "startup": false,
            "wait_interval": 0
          }
        }
      },
      "cell_type": "code",
      "source": [
        "#Categorical conversion\n",
        "\n",
        "Y_train=np_utils.to_categorical(Y_train,classes)\n",
        "Y_test=np_utils.to_categorical(Y_test,classes)"
      ],
      "execution_count": 0,
      "outputs": []
    },
    {
      "metadata": {
        "id": "HaRYOgEwYNdq",
        "colab_type": "code",
        "colab": {
          "autoexec": {
            "startup": false,
            "wait_interval": 0
          }
        }
      },
      "cell_type": "code",
      "source": [
        "#Float and normalisation\n",
        "\n",
        "X_train=X_train.astype('float32')\n",
        "X_test=X_test.astype('float32')\n",
        "X_train/=255\n",
        "X_test/=255"
      ],
      "execution_count": 0,
      "outputs": []
    },
    {
      "metadata": {
        "id": "zT0pAycsYhTS",
        "colab_type": "code",
        "colab": {
          "autoexec": {
            "startup": false,
            "wait_interval": 0
          }
        }
      },
      "cell_type": "code",
      "source": [
        "#creating network\n",
        "\n",
        "model=Sequential()\n",
        "model.add(Conv2D(32,(3,3),padding='same',input_shape=(Img_rows,Img_cols,Img_channels)))\n",
        "model.add(Activation('relu'))"
      ],
      "execution_count": 0,
      "outputs": []
    },
    {
      "metadata": {
        "id": "U2-V51LAZhXy",
        "colab_type": "code",
        "colab": {
          "autoexec": {
            "startup": false,
            "wait_interval": 0
          }
        }
      },
      "cell_type": "code",
      "source": [
        "model.add(MaxPooling2D(pool_size=(2,2)))\n",
        "model.add(Dropout(0.25))"
      ],
      "execution_count": 0,
      "outputs": []
    },
    {
      "metadata": {
        "id": "Ik1gbYbjZwF0",
        "colab_type": "code",
        "colab": {
          "autoexec": {
            "startup": false,
            "wait_interval": 0
          }
        }
      },
      "cell_type": "code",
      "source": [
        "model.add(Flatten())\n",
        "model.add(Dense(512))\n",
        "model.add(Activation('relu'))\n",
        "model.add(Dropout(0.5))\n",
        "model.add(Dense(classes))\n",
        "model.add(Activation('softmax'))\n"
      ],
      "execution_count": 0,
      "outputs": []
    },
    {
      "metadata": {
        "id": "TnyLPkipaRbv",
        "colab_type": "code",
        "colab": {
          "autoexec": {
            "startup": false,
            "wait_interval": 0
          },
          "base_uri": "https://localhost:8080/",
          "height": 476
        },
        "outputId": "2e657227-0f83-4f92-e3d4-3bb61ff16e60",
        "executionInfo": {
          "status": "ok",
          "timestamp": 1532083793454,
          "user_tz": -330,
          "elapsed": 1417,
          "user": {
            "displayName": "Tushar Nema",
            "photoUrl": "https://lh3.googleusercontent.com/a/default-user=s128",
            "userId": "116547679340556707397"
          }
        }
      },
      "cell_type": "code",
      "source": [
        "model.summary()"
      ],
      "execution_count": 41,
      "outputs": [
        {
          "output_type": "stream",
          "text": [
            "_________________________________________________________________\n",
            "Layer (type)                 Output Shape              Param #   \n",
            "=================================================================\n",
            "conv2d_2 (Conv2D)            (None, 32, 32, 32)        896       \n",
            "_________________________________________________________________\n",
            "activation_4 (Activation)    (None, 32, 32, 32)        0         \n",
            "_________________________________________________________________\n",
            "max_pooling2d_2 (MaxPooling2 (None, 16, 16, 32)        0         \n",
            "_________________________________________________________________\n",
            "dropout_3 (Dropout)          (None, 16, 16, 32)        0         \n",
            "_________________________________________________________________\n",
            "flatten_2 (Flatten)          (None, 8192)              0         \n",
            "_________________________________________________________________\n",
            "dense_3 (Dense)              (None, 512)               4194816   \n",
            "_________________________________________________________________\n",
            "activation_5 (Activation)    (None, 512)               0         \n",
            "_________________________________________________________________\n",
            "dropout_4 (Dropout)          (None, 512)               0         \n",
            "_________________________________________________________________\n",
            "dense_4 (Dense)              (None, 10)                5130      \n",
            "_________________________________________________________________\n",
            "activation_6 (Activation)    (None, 10)                0         \n",
            "=================================================================\n",
            "Total params: 4,200,842\n",
            "Trainable params: 4,200,842\n",
            "Non-trainable params: 0\n",
            "_________________________________________________________________\n"
          ],
          "name": "stdout"
        }
      ]
    },
    {
      "metadata": {
        "id": "RNl_kl-BaTf8",
        "colab_type": "code",
        "colab": {
          "autoexec": {
            "startup": false,
            "wait_interval": 0
          }
        }
      },
      "cell_type": "code",
      "source": [
        "#Training Part\n",
        "\n",
        "model.compile(loss='categorical_crossentropy',optimizer=optim,metrics=['accuracy'])"
      ],
      "execution_count": 0,
      "outputs": []
    },
    {
      "metadata": {
        "id": "AuQsDUjMjhFn",
        "colab_type": "code",
        "colab": {
          "autoexec": {
            "startup": false,
            "wait_interval": 0
          },
          "base_uri": "https://localhost:8080/",
          "height": 1224
        },
        "outputId": "d6eabfab-1327-40f4-9d48-761a87d5396f",
        "executionInfo": {
          "status": "ok",
          "timestamp": 1532086644952,
          "user_tz": -330,
          "elapsed": 19,
          "user": {
            "displayName": "Tushar Nema",
            "photoUrl": "https://lh3.googleusercontent.com/a/default-user=s128",
            "userId": "116547679340556707397"
          }
        }
      },
      "cell_type": "code",
      "source": [
        "history=model.fit(X_train, Y_train, batch_size=batch_size,epochs=epoch,validation_split=validation_split,verbose=verbose)"
      ],
      "execution_count": 43,
      "outputs": [
        {
          "output_type": "stream",
          "text": [
            "Train on 40000 samples, validate on 10000 samples\n",
            "Epoch 1/35\n",
            " - 80s - loss: 1.7226 - acc: 0.3781 - val_loss: 1.3995 - val_acc: 0.5099\n",
            "Epoch 2/35\n",
            " - 79s - loss: 1.3811 - acc: 0.5071 - val_loss: 1.2733 - val_acc: 0.5589\n",
            "Epoch 3/35\n",
            " - 79s - loss: 1.2699 - acc: 0.5494 - val_loss: 1.1975 - val_acc: 0.5855\n",
            "Epoch 4/35\n",
            " - 79s - loss: 1.1950 - acc: 0.5766 - val_loss: 1.1211 - val_acc: 0.6132\n",
            "Epoch 5/35\n",
            " - 80s - loss: 1.1277 - acc: 0.5973 - val_loss: 1.1211 - val_acc: 0.6084\n",
            "Epoch 6/35\n",
            " - 79s - loss: 1.0844 - acc: 0.6141 - val_loss: 1.0519 - val_acc: 0.6337\n",
            "Epoch 7/35\n",
            " - 79s - loss: 1.0497 - acc: 0.6272 - val_loss: 1.0503 - val_acc: 0.6347\n",
            "Epoch 8/35\n",
            " - 79s - loss: 1.0075 - acc: 0.6407 - val_loss: 1.0081 - val_acc: 0.6471\n",
            "Epoch 9/35\n",
            " - 80s - loss: 0.9788 - acc: 0.6524 - val_loss: 1.0067 - val_acc: 0.6469\n",
            "Epoch 10/35\n",
            " - 79s - loss: 0.9378 - acc: 0.6647 - val_loss: 0.9906 - val_acc: 0.6554\n",
            "Epoch 11/35\n",
            " - 79s - loss: 0.9170 - acc: 0.6727 - val_loss: 0.9770 - val_acc: 0.6605\n",
            "Epoch 12/35\n",
            " - 79s - loss: 0.8845 - acc: 0.6818 - val_loss: 0.9623 - val_acc: 0.6628\n",
            "Epoch 13/35\n",
            " - 79s - loss: 0.8651 - acc: 0.6915 - val_loss: 0.9618 - val_acc: 0.6630\n",
            "Epoch 14/35\n",
            " - 79s - loss: 0.8405 - acc: 0.6984 - val_loss: 0.9606 - val_acc: 0.6705\n",
            "Epoch 15/35\n",
            " - 79s - loss: 0.8144 - acc: 0.7105 - val_loss: 0.9584 - val_acc: 0.6677\n",
            "Epoch 16/35\n",
            " - 79s - loss: 0.7978 - acc: 0.7156 - val_loss: 0.9565 - val_acc: 0.6680\n",
            "Epoch 17/35\n",
            " - 79s - loss: 0.7753 - acc: 0.7219 - val_loss: 0.9670 - val_acc: 0.6744\n",
            "Epoch 18/35\n",
            " - 78s - loss: 0.7543 - acc: 0.7305 - val_loss: 0.9550 - val_acc: 0.6747\n",
            "Epoch 19/35\n",
            " - 79s - loss: 0.7344 - acc: 0.7342 - val_loss: 0.9610 - val_acc: 0.6698\n",
            "Epoch 20/35\n",
            " - 79s - loss: 0.7149 - acc: 0.7438 - val_loss: 0.9493 - val_acc: 0.6761\n",
            "Epoch 21/35\n",
            " - 80s - loss: 0.7019 - acc: 0.7469 - val_loss: 0.9612 - val_acc: 0.6745\n",
            "Epoch 22/35\n",
            " - 79s - loss: 0.6787 - acc: 0.7531 - val_loss: 0.9514 - val_acc: 0.6738\n",
            "Epoch 23/35\n",
            " - 79s - loss: 0.6668 - acc: 0.7615 - val_loss: 0.9559 - val_acc: 0.6735\n",
            "Epoch 24/35\n",
            " - 79s - loss: 0.6518 - acc: 0.7645 - val_loss: 0.9782 - val_acc: 0.6749\n",
            "Epoch 25/35\n",
            " - 79s - loss: 0.6370 - acc: 0.7683 - val_loss: 0.9745 - val_acc: 0.6773\n",
            "Epoch 26/35\n",
            " - 79s - loss: 0.6194 - acc: 0.7735 - val_loss: 0.9744 - val_acc: 0.6804\n",
            "Epoch 27/35\n",
            " - 78s - loss: 0.6074 - acc: 0.7797 - val_loss: 0.9800 - val_acc: 0.6830\n",
            "Epoch 28/35\n",
            " - 79s - loss: 0.5966 - acc: 0.7805 - val_loss: 1.0101 - val_acc: 0.6765\n",
            "Epoch 29/35\n",
            " - 80s - loss: 0.5853 - acc: 0.7887 - val_loss: 0.9834 - val_acc: 0.6791\n",
            "Epoch 30/35\n",
            " - 78s - loss: 0.5634 - acc: 0.7951 - val_loss: 0.9983 - val_acc: 0.6805\n",
            "Epoch 31/35\n",
            " - 78s - loss: 0.5692 - acc: 0.7925 - val_loss: 1.0400 - val_acc: 0.6727\n",
            "Epoch 32/35\n",
            " - 78s - loss: 0.5488 - acc: 0.7998 - val_loss: 1.0141 - val_acc: 0.6822\n",
            "Epoch 33/35\n",
            " - 79s - loss: 0.5351 - acc: 0.8057 - val_loss: 1.0101 - val_acc: 0.6814\n",
            "Epoch 34/35\n"
          ],
          "name": "stdout"
        },
        {
          "output_type": "stream",
          "text": [
            " - 79s - loss: 0.5264 - acc: 0.8099 - val_loss: 1.0023 - val_acc: 0.6827\n",
            "Epoch 35/35\n",
            " - 78s - loss: 0.5163 - acc: 0.8128 - val_loss: 1.0136 - val_acc: 0.6827\n"
          ],
          "name": "stdout"
        }
      ]
    },
    {
      "metadata": {
        "id": "3beRt9vwdpmg",
        "colab_type": "code",
        "colab": {
          "autoexec": {
            "startup": false,
            "wait_interval": 0
          }
        }
      },
      "cell_type": "code",
      "source": [
        ""
      ],
      "execution_count": 0,
      "outputs": []
    },
    {
      "metadata": {
        "id": "PSxGwyAvdr6S",
        "colab_type": "code",
        "colab": {
          "autoexec": {
            "startup": false,
            "wait_interval": 0
          }
        }
      },
      "cell_type": "code",
      "source": [
        ""
      ],
      "execution_count": 0,
      "outputs": []
    },
    {
      "metadata": {
        "id": "wnsOfoAcj5RD",
        "colab_type": "code",
        "colab": {
          "autoexec": {
            "startup": false,
            "wait_interval": 0
          },
          "base_uri": "https://localhost:8080/",
          "height": 34
        },
        "outputId": "de8f5ae6-d3c9-42ff-f179-6a46a9985044",
        "executionInfo": {
          "status": "ok",
          "timestamp": 1532086667893,
          "user_tz": -330,
          "elapsed": 8318,
          "user": {
            "displayName": "Tushar Nema",
            "photoUrl": "https://lh3.googleusercontent.com/a/default-user=s128",
            "userId": "116547679340556707397"
          }
        }
      },
      "cell_type": "code",
      "source": [
        "score=model.evaluate(X_test,Y_test)"
      ],
      "execution_count": 44,
      "outputs": [
        {
          "output_type": "stream",
          "text": [
            "10000/10000 [==============================] - 7s 741us/step\n"
          ],
          "name": "stdout"
        }
      ]
    },
    {
      "metadata": {
        "id": "D5McceMtrLIu",
        "colab_type": "code",
        "colab": {
          "autoexec": {
            "startup": false,
            "wait_interval": 0
          },
          "base_uri": "https://localhost:8080/",
          "height": 34
        },
        "outputId": "6f3d0e1d-6025-4d1e-b9d4-755d9b65c0c4",
        "executionInfo": {
          "status": "ok",
          "timestamp": 1532086717724,
          "user_tz": -330,
          "elapsed": 1247,
          "user": {
            "displayName": "Tushar Nema",
            "photoUrl": "https://lh3.googleusercontent.com/a/default-user=s128",
            "userId": "116547679340556707397"
          }
        }
      },
      "cell_type": "code",
      "source": [
        "print('Accuracy:',score[1])"
      ],
      "execution_count": 45,
      "outputs": [
        {
          "output_type": "stream",
          "text": [
            "Accuracy: 0.6753\n"
          ],
          "name": "stdout"
        }
      ]
    },
    {
      "metadata": {
        "id": "qH5LZPSUrS6Q",
        "colab_type": "code",
        "colab": {
          "autoexec": {
            "startup": false,
            "wait_interval": 0
          }
        }
      },
      "cell_type": "code",
      "source": [
        "import scipy.misc"
      ],
      "execution_count": 0,
      "outputs": []
    },
    {
      "metadata": {
        "id": "b5_Y1ycrrroV",
        "colab_type": "code",
        "colab": {
          "autoexec": {
            "startup": false,
            "wait_interval": 0
          }
        }
      },
      "cell_type": "code",
      "source": [
        "img_names=['cat.jpg','dog.jpg']"
      ],
      "execution_count": 0,
      "outputs": []
    },
    {
      "metadata": {
        "id": "ME6q_RcIr25M",
        "colab_type": "code",
        "colab": {
          "autoexec": {
            "startup": false,
            "wait_interval": 0
          }
        }
      },
      "cell_type": "code",
      "source": [
        "import numpy as np"
      ],
      "execution_count": 0,
      "outputs": []
    },
    {
      "metadata": {
        "id": "ZFHJPJMTr6AW",
        "colab_type": "code",
        "colab": {
          "autoexec": {
            "startup": false,
            "wait_interval": 0
          }
        }
      },
      "cell_type": "code",
      "source": [
        "imgs=scipy.misc.imread('drive/Datasets/dog.jpg')"
      ],
      "execution_count": 0,
      "outputs": []
    },
    {
      "metadata": {
        "id": "cyTeM3MCtGzt",
        "colab_type": "code",
        "colab": {
          "autoexec": {
            "startup": false,
            "wait_interval": 0
          },
          "base_uri": "https://localhost:8080/",
          "height": 34
        },
        "outputId": "5e58c478-3583-49c3-b7f9-09e73b70964f",
        "executionInfo": {
          "status": "ok",
          "timestamp": 1532086739720,
          "user_tz": -330,
          "elapsed": 1041,
          "user": {
            "displayName": "Tushar Nema",
            "photoUrl": "https://lh3.googleusercontent.com/a/default-user=s128",
            "userId": "116547679340556707397"
          }
        }
      },
      "cell_type": "code",
      "source": [
        "imgs.shape"
      ],
      "execution_count": 49,
      "outputs": [
        {
          "output_type": "execute_result",
          "data": {
            "text/plain": [
              "(32, 32, 3)"
            ]
          },
          "metadata": {
            "tags": []
          },
          "execution_count": 49
        }
      ]
    },
    {
      "metadata": {
        "id": "egbioHCTvVbF",
        "colab_type": "code",
        "colab": {
          "autoexec": {
            "startup": false,
            "wait_interval": 0
          },
          "base_uri": "https://localhost:8080/",
          "height": 125
        },
        "outputId": "1ba7a8fb-d880-495c-c0ee-43e03a6e3ad7",
        "executionInfo": {
          "status": "ok",
          "timestamp": 1532086747503,
          "user_tz": -330,
          "elapsed": 990,
          "user": {
            "displayName": "Tushar Nema",
            "photoUrl": "https://lh3.googleusercontent.com/a/default-user=s128",
            "userId": "116547679340556707397"
          }
        }
      },
      "cell_type": "code",
      "source": [
        "imgs=scipy.misc.imresize(imgs,(32,32))"
      ],
      "execution_count": 50,
      "outputs": [
        {
          "output_type": "stream",
          "text": [
            "/usr/local/lib/python3.6/dist-packages/scipy/misc/pilutil.py:482: FutureWarning: Conversion of the second argument of issubdtype from `int` to `np.signedinteger` is deprecated. In future, it will be treated as `np.int64 == np.dtype(int).type`.\n",
            "  if issubdtype(ts, int):\n",
            "/usr/local/lib/python3.6/dist-packages/scipy/misc/pilutil.py:485: FutureWarning: Conversion of the second argument of issubdtype from `float` to `np.floating` is deprecated. In future, it will be treated as `np.float64 == np.dtype(float).type`.\n",
            "  elif issubdtype(type(size), float):\n"
          ],
          "name": "stderr"
        }
      ]
    },
    {
      "metadata": {
        "id": "2m8YMAm2vnDD",
        "colab_type": "code",
        "colab": {
          "autoexec": {
            "startup": false,
            "wait_interval": 0
          },
          "base_uri": "https://localhost:8080/",
          "height": 34
        },
        "outputId": "7b03bb85-2bf6-4bf8-be63-b0a66177a99c",
        "executionInfo": {
          "status": "ok",
          "timestamp": 1532088396977,
          "user_tz": -330,
          "elapsed": 1020,
          "user": {
            "displayName": "Tushar Nema",
            "photoUrl": "https://lh3.googleusercontent.com/a/default-user=s128",
            "userId": "116547679340556707397"
          }
        }
      },
      "cell_type": "code",
      "source": [
        "im=model.predict_classes(imgs.reshape(1,32,32,3))\n",
        "print(im)"
      ],
      "execution_count": 60,
      "outputs": [
        {
          "output_type": "stream",
          "text": [
            "[5]\n"
          ],
          "name": "stdout"
        }
      ]
    },
    {
      "metadata": {
        "id": "LN8nwHyvv2PT",
        "colab_type": "code",
        "colab": {
          "autoexec": {
            "startup": false,
            "wait_interval": 0
          }
        }
      },
      "cell_type": "code",
      "source": [
        "from keras.models import model_from_json"
      ],
      "execution_count": 0,
      "outputs": []
    },
    {
      "metadata": {
        "id": "TnaacZWr5PHA",
        "colab_type": "code",
        "colab": {
          "autoexec": {
            "startup": false,
            "wait_interval": 0
          },
          "base_uri": "https://localhost:8080/",
          "height": 34
        },
        "outputId": "ddbb5591-b36d-4aa7-eb99-901b8877e040",
        "executionInfo": {
          "status": "ok",
          "timestamp": 1532087400137,
          "user_tz": -330,
          "elapsed": 7098,
          "user": {
            "displayName": "Tushar Nema",
            "photoUrl": "https://lh3.googleusercontent.com/a/default-user=s128",
            "userId": "116547679340556707397"
          }
        }
      },
      "cell_type": "code",
      "source": [
        "# serialize model to JSON\n",
        "model_json = model.to_json()\n",
        "with open(\"drive/Models/CIFAR10.json\", \"w\") as json_file:\n",
        "    json_file.write(model_json)\n",
        "# serialize weights to HDF5\n",
        "model.save_weights(\"drive/Models/CIFAR10.h5\")\n",
        "print(\"Saved model to disk\")\n"
      ],
      "execution_count": 55,
      "outputs": [
        {
          "output_type": "stream",
          "text": [
            "Saved model to disk\n"
          ],
          "name": "stdout"
        }
      ]
    },
    {
      "metadata": {
        "id": "1vTxjRN7Sy0w",
        "colab_type": "code",
        "colab": {
          "autoexec": {
            "startup": false,
            "wait_interval": 0
          },
          "base_uri": "https://localhost:8080/",
          "height": 34
        },
        "outputId": "d2dcba08-7c2e-4a59-d233-c5bfcb24af6c",
        "executionInfo": {
          "status": "ok",
          "timestamp": 1532087561046,
          "user_tz": -330,
          "elapsed": 878,
          "user": {
            "displayName": "Tushar Nema",
            "photoUrl": "https://lh3.googleusercontent.com/a/default-user=s128",
            "userId": "116547679340556707397"
          }
        }
      },
      "cell_type": "code",
      "source": [
        "# list all data in history\n",
        "print(history.history.keys())\n",
        "#print(scores.history.keys())"
      ],
      "execution_count": 56,
      "outputs": [
        {
          "output_type": "stream",
          "text": [
            "dict_keys(['val_loss', 'val_acc', 'loss', 'acc'])\n"
          ],
          "name": "stdout"
        }
      ]
    },
    {
      "metadata": {
        "id": "EFjEG_fPmOM7",
        "colab_type": "code",
        "colab": {
          "autoexec": {
            "startup": false,
            "wait_interval": 0
          },
          "base_uri": "https://localhost:8080/",
          "height": 811
        },
        "outputId": "69c10d03-2a48-4806-8750-cd2be86f31fb",
        "executionInfo": {
          "status": "ok",
          "timestamp": 1532093886495,
          "user_tz": -330,
          "elapsed": 1808,
          "user": {
            "displayName": "Tushar Nema",
            "photoUrl": "https://lh3.googleusercontent.com/a/default-user=s128",
            "userId": "116547679340556707397"
          }
        }
      },
      "cell_type": "code",
      "source": [
        "\n",
        "# Plots for training and testing process: loss and accuracy\n",
        " \n",
        "plt.figure(0)\n",
        "plt.plot(history.history['acc'],'r')\n",
        "plt.plot(history.history['val_acc'],'g')\n",
        "plt.xticks(np.arange(0, 40, 2.0))\n",
        "plt.rcParams['figure.figsize'] = (8, 6)\n",
        "plt.xlabel(\"Num of Epochs\")\n",
        "plt.ylabel(\"Accuracy\")\n",
        "plt.title(\"Training Accuracy vs Validation Accuracy\")\n",
        "plt.legend(['train','validation'])\n",
        " \n",
        " \n",
        "plt.figure(1)\n",
        "plt.plot(history.history['loss'],'r')\n",
        "plt.plot(history.history['val_loss'],'g')\n",
        "plt.xticks(np.arange(0, 40, 2.0))\n",
        "plt.rcParams['figure.figsize'] = (8, 6)\n",
        "plt.xlabel(\"Num of Epochs\")\n",
        "plt.ylabel(\"Loss\")\n",
        "plt.title(\"Training Loss vs Validation Loss\")\n",
        "plt.legend(['train','validation'])\n",
        " \n",
        " \n",
        "plt.show()"
      ],
      "execution_count": 73,
      "outputs": [
        {
          "output_type": "display_data",
          "data": {
            "image/png": "[encoded data removed]",
            "text/plain": [
              "<matplotlib.figure.Figure at 0x7f2347648518>"
            ]
          },
          "metadata": {
            "tags": []
          }
        },
        {
          "output_type": "display_data",
          "data": {
            "image/png": "[encoded data removed]",
            "text/plain": [
              "<matplotlib.figure.Figure at 0x7f2347497da0>"
            ]
          },
          "metadata": {
            "tags": []
          }
        }
      ]
    },
    {
      "metadata": {
        "id": "iNmO5GAA4B3R",
        "colab_type": "code",
        "colab": {
          "autoexec": {
            "startup": false,
            "wait_interval": 0
          }
        }
      },
      "cell_type": "code",
      "source": [
        ""
      ],
      "execution_count": 0,
      "outputs": []
    }
  ]
}