{
 "cells": [
  {
   "cell_type": "code",
   "execution_count": 6,
   "metadata": {
    "colab": {
     "autoexec": {
      "startup": false,
      "wait_interval": 0
     },
     "base_uri": "https://localhost:8080/",
     "height": 2278
    },
    "colab_type": "code",
    "executionInfo": {
     "elapsed": 29658,
     "status": "ok",
     "timestamp": 1532848028412,
     "user": {
      "displayName": "Tushar Nema",
      "photoUrl": "https://lh3.googleusercontent.com/a/default-user=s128",
      "userId": "116547679340556707397"
     },
     "user_tz": -330
    },
    "id": "85Kfz2Utxqp_",
    "outputId": "5247e3d8-095a-486e-8573-7d56ecafe0ff"
   },
   "outputs": [
    {
     "name": "stdout",
     "output_type": "stream",
     "text": [
      "Preconfiguring packages ...\n",
      "Selecting previously unselected package cron.\n",
      "(Reading database ... 18396 files and directories currently installed.)\n",
      "Preparing to unpack .../00-cron_3.0pl1-128ubuntu5_amd64.deb ...\n",
      "Unpacking cron (3.0pl1-128ubuntu5) ...\n",
      "Selecting previously unselected package libapparmor1:amd64.\n",
      "Preparing to unpack .../01-libapparmor1_2.11.0-2ubuntu17.1_amd64.deb ...\n",
      "Unpacking libapparmor1:amd64 (2.11.0-2ubuntu17.1) ...\n",
      "Selecting previously unselected package libdbus-1-3:amd64.\n",
      "Preparing to unpack .../02-libdbus-1-3_1.10.22-1ubuntu1_amd64.deb ...\n",
      "Unpacking libdbus-1-3:amd64 (1.10.22-1ubuntu1) ...\n",
      "Selecting previously unselected package dbus.\n",
      "Preparing to unpack .../03-dbus_1.10.22-1ubuntu1_amd64.deb ...\n",
      "Unpacking dbus (1.10.22-1ubuntu1) ...\n",
      "Selecting previously unselected package dirmngr.\n",
      "Preparing to unpack .../04-dirmngr_2.1.15-1ubuntu8.1_amd64.deb ...\n",
      "Unpacking dirmngr (2.1.15-1ubuntu8.1) ...\n",
      "Selecting previously unselected package distro-info-data.\n",
      "Preparing to unpack .../05-distro-info-data_0.36ubuntu0.2_all.deb ...\n",
      "Unpacking distro-info-data (0.36ubuntu0.2) ...\n",
      "Selecting previously unselected package libkmod2:amd64.\n",
      "Preparing to unpack .../06-libkmod2_24-1ubuntu2_amd64.deb ...\n",
      "Unpacking libkmod2:amd64 (24-1ubuntu2) ...\n",
      "Selecting previously unselected package kmod.\n",
      "Preparing to unpack .../07-kmod_24-1ubuntu2_amd64.deb ...\n",
      "Unpacking kmod (24-1ubuntu2) ...\n",
      "Selecting previously unselected package lsb-release.\n",
      "Preparing to unpack .../08-lsb-release_9.20160110ubuntu5_all.deb ...\n",
      "Unpacking lsb-release (9.20160110ubuntu5) ...\n",
      "Selecting previously unselected package libgirepository-1.0-1:amd64.\n",
      "Preparing to unpack .../09-libgirepository-1.0-1_1.54.1-1_amd64.deb ...\n",
      "Unpacking libgirepository-1.0-1:amd64 (1.54.1-1) ...\n",
      "Selecting previously unselected package gir1.2-glib-2.0:amd64.\n",
      "Preparing to unpack .../10-gir1.2-glib-2.0_1.54.1-1_amd64.deb ...\n",
      "Unpacking gir1.2-glib-2.0:amd64 (1.54.1-1) ...\n",
      "Selecting previously unselected package iso-codes.\n",
      "Preparing to unpack .../11-iso-codes_3.75-1_all.deb ...\n",
      "Unpacking iso-codes (3.75-1) ...\n",
      "Selecting previously unselected package libdbus-glib-1-2:amd64.\n",
      "Preparing to unpack .../12-libdbus-glib-1-2_0.108-2_amd64.deb ...\n",
      "Unpacking libdbus-glib-1-2:amd64 (0.108-2) ...\n",
      "Selecting previously unselected package python-apt-common.\n",
      "Preparing to unpack .../13-python-apt-common_1.4.0~beta3build2_all.deb ...\n",
      "Unpacking python-apt-common (1.4.0~beta3build2) ...\n",
      "Selecting previously unselected package python3-apt.\n",
      "Preparing to unpack .../14-python3-apt_1.4.0~beta3build2_amd64.deb ...\n",
      "Unpacking python3-apt (1.4.0~beta3build2) ...\n",
      "Selecting previously unselected package python3-dbus.\n",
      "Preparing to unpack .../15-python3-dbus_1.2.4-1build3_amd64.deb ...\n",
      "Unpacking python3-dbus (1.2.4-1build3) ...\n",
      "Selecting previously unselected package python3-gi.\n",
      "Preparing to unpack .../16-python3-gi_3.24.1-2build1_amd64.deb ...\n",
      "Unpacking python3-gi (3.24.1-2build1) ...\n",
      "Selecting previously unselected package module-init-tools.\n",
      "Preparing to unpack .../17-module-init-tools_24-1ubuntu2_all.deb ...\n",
      "Unpacking module-init-tools (24-1ubuntu2) ...\n",
      "Selecting previously unselected package python-apt.\n",
      "Preparing to unpack .../18-python-apt_1.4.0~beta3build2_amd64.deb ...\n",
      "Unpacking python-apt (1.4.0~beta3build2) ...\n",
      "Selecting previously unselected package python-pycurl.\n",
      "Preparing to unpack .../19-python-pycurl_7.43.0-2build2_amd64.deb ...\n",
      "Unpacking python-pycurl (7.43.0-2build2) ...\n",
      "Selecting previously unselected package python-software-properties.\n",
      "Preparing to unpack .../20-python-software-properties_0.96.24.17_all.deb ...\n",
      "Unpacking python-software-properties (0.96.24.17) ...\n",
      "Selecting previously unselected package python3-software-properties.\n",
      "Preparing to unpack .../21-python3-software-properties_0.96.24.17_all.deb ...\n",
      "Unpacking python3-software-properties (0.96.24.17) ...\n",
      "Selecting previously unselected package software-properties-common.\n",
      "Preparing to unpack .../22-software-properties-common_0.96.24.17_all.deb ...\n",
      "Unpacking software-properties-common (0.96.24.17) ...\n",
      "Selecting previously unselected package unattended-upgrades.\n",
      "Preparing to unpack .../23-unattended-upgrades_0.98ubuntu1.1_all.deb ...\n",
      "Unpacking unattended-upgrades (0.98ubuntu1.1) ...\n",
      "Setting up python-apt-common (1.4.0~beta3build2) ...\n",
      "Setting up python3-apt (1.4.0~beta3build2) ...\n",
      "Setting up iso-codes (3.75-1) ...\n",
      "Setting up distro-info-data (0.36ubuntu0.2) ...\n",
      "Setting up python-pycurl (7.43.0-2build2) ...\n",
      "Setting up lsb-release (9.20160110ubuntu5) ...\n",
      "Setting up libgirepository-1.0-1:amd64 (1.54.1-1) ...\n",
      "Setting up libkmod2:amd64 (24-1ubuntu2) ...\n",
      "Setting up gir1.2-glib-2.0:amd64 (1.54.1-1) ...\n",
      "Processing triggers for libc-bin (2.26-0ubuntu2.1) ...\n",
      "Setting up libapparmor1:amd64 (2.11.0-2ubuntu17.1) ...\n",
      "Setting up unattended-upgrades (0.98ubuntu1.1) ...\n",
      "\n",
      "Creating config file /etc/apt/apt.conf.d/20auto-upgrades with new version\n",
      "\n",
      "Creating config file /etc/apt/apt.conf.d/50unattended-upgrades with new version\n",
      "invoke-rc.d: could not determine current runlevel\n",
      "invoke-rc.d: policy-rc.d denied execution of start.\n",
      "Setting up dirmngr (2.1.15-1ubuntu8.1) ...\n",
      "Setting up cron (3.0pl1-128ubuntu5) ...\n",
      "Adding group `crontab' (GID 102) ...\n",
      "Done.\n",
      "update-rc.d: warning: start and stop actions are no longer supported; falling back to defaults\n",
      "update-rc.d: warning: stop runlevel arguments (1) do not match cron Default-Stop values (none)\n",
      "invoke-rc.d: could not determine current runlevel\n",
      "invoke-rc.d: policy-rc.d denied execution of start.\n",
      "Setting up libdbus-1-3:amd64 (1.10.22-1ubuntu1) ...\n",
      "Setting up kmod (24-1ubuntu2) ...\n",
      "Setting up libdbus-glib-1-2:amd64 (0.108-2) ...\n",
      "Setting up python3-gi (3.24.1-2build1) ...\n",
      "Setting up module-init-tools (24-1ubuntu2) ...\n",
      "Setting up python3-software-properties (0.96.24.17) ...\n",
      "Setting up dbus (1.10.22-1ubuntu1) ...\n",
      "Setting up python-apt (1.4.0~beta3build2) ...\n",
      "Setting up python3-dbus (1.2.4-1build3) ...\n",
      "Setting up python-software-properties (0.96.24.17) ...\n",
      "Setting up software-properties-common (0.96.24.17) ...\n",
      "Processing triggers for libc-bin (2.26-0ubuntu2.1) ...\n",
      "Processing triggers for dbus (1.10.22-1ubuntu1) ...\n",
      "gpg: keybox '/tmp/tmpb_yisj53/pubring.gpg' created\n",
      "gpg: /tmp/tmpb_yisj53/trustdb.gpg: trustdb created\n",
      "gpg: key AD5F235DF639B041: public key \"Launchpad PPA for Alessandro Strada\" imported\n",
      "gpg: Total number processed: 1\n",
      "gpg:               imported: 1\n",
      "Warning: apt-key output should not be parsed (stdout is not a terminal)\n",
      "Selecting previously unselected package libfuse2:amd64.\n",
      "(Reading database ... 19804 files and directories currently installed.)\n",
      "Preparing to unpack .../libfuse2_2.9.7-1ubuntu1_amd64.deb ...\n",
      "Unpacking libfuse2:amd64 (2.9.7-1ubuntu1) ...\n",
      "Selecting previously unselected package fuse.\n",
      "Preparing to unpack .../fuse_2.9.7-1ubuntu1_amd64.deb ...\n",
      "Unpacking fuse (2.9.7-1ubuntu1) ...\n",
      "Selecting previously unselected package google-drive-ocamlfuse.\n",
      "Preparing to unpack .../google-drive-ocamlfuse_0.6.21-0ubuntu2_amd64.deb ...\n",
      "Unpacking google-drive-ocamlfuse (0.6.21-0ubuntu2) ...\n",
      "Setting up libfuse2:amd64 (2.9.7-1ubuntu1) ...\n",
      "Processing triggers for libc-bin (2.26-0ubuntu2.1) ...\n",
      "Setting up fuse (2.9.7-1ubuntu1) ...\n",
      "Setting up google-drive-ocamlfuse (0.6.21-0ubuntu2) ...\n"
     ]
    }
   ],
   "source": [
    "# Install a Drive FUSE wrapper.\n",
    "# https://github.com/astrada/google-drive-ocamlfuse\n",
    "!apt-get update -qq 2>&1 > /dev/null\n",
    "!apt-get install -y -qq software-properties-common python-software-properties module-init-tools\n",
    "!add-apt-repository -y ppa:alessandro-strada/ppa 2>&1 > /dev/null\n",
    "!apt-get update -qq 2>&1 > /dev/null\n",
    "\n",
    "!apt-get -y install -qq google-drive-ocamlfuse fuse"
   ]
  },
  {
   "cell_type": "code",
   "execution_count": null,
   "metadata": {
    "colab": {
     "autoexec": {
      "startup": false,
      "wait_interval": 0
     }
    },
    "colab_type": "code",
    "id": "VxB_W-CUyEqx"
   },
   "outputs": [],
   "source": [
    "# Generate auth tokens for Colab\n",
    "from google.colab import auth\n",
    "auth.authenticate_user()"
   ]
  },
  {
   "cell_type": "code",
   "execution_count": 8,
   "metadata": {
    "colab": {
     "autoexec": {
      "startup": false,
      "wait_interval": 0
     },
     "base_uri": "https://localhost:8080/",
     "height": 174
    },
    "colab_type": "code",
    "executionInfo": {
     "elapsed": 19026,
     "status": "ok",
     "timestamp": 1532848083499,
     "user": {
      "displayName": "Tushar Nema",
      "photoUrl": "https://lh3.googleusercontent.com/a/default-user=s128",
      "userId": "116547679340556707397"
     },
     "user_tz": -330
    },
    "id": "guYLQFVEyRTG",
    "outputId": "495a2537-a492-44b1-fd16-e88665a6feca"
   },
   "outputs": [
    {
     "name": "stdout",
     "output_type": "stream",
     "text": [
      "Please, open the following URL in a web browser: https://accounts.google.com/o/oauth2/auth?client_id=32555940559.apps.googleusercontent.com&redirect_uri=urn%3Aietf%3Awg%3Aoauth%3A2.0%3Aoob&scope=https%3A%2F%2Fwww.googleapis.com%2Fauth%2Fdrive&response_type=code&access_type=offline&approval_prompt=force\n",
      "\n",
      "Enter verification code: ··········\n",
      "Please, open the following URL in a web browser: https://accounts.google.com/o/oauth2/auth?client_id=32555940559.apps.googleusercontent.com&redirect_uri=urn%3Aietf%3Awg%3Aoauth%3A2.0%3Aoob&scope=https%3A%2F%2Fwww.googleapis.com%2Fauth%2Fdrive&response_type=code&access_type=offline&approval_prompt=force\n",
      "Please enter the verification code: Access token retrieved correctly.\n"
     ]
    }
   ],
   "source": [
    "# Generate creds for the Drive FUSE library.\n",
    "from oauth2client.client import GoogleCredentials\n",
    "creds = GoogleCredentials.get_application_default()\n",
    "import getpass\n",
    "# Work around misordering of STREAM and STDIN in Jupyter.\n",
    "# https://github.com/jupyter/notebook/issues/3159\n",
    "prompt = !google-drive-ocamlfuse -headless -id={creds.client_id} -secret={creds.client_secret} < /dev/null 2>&1 | grep URL\n",
    "vcode = getpass.getpass(prompt[0] + '\\n\\nEnter verification code: ')\n",
    "!echo {vcode} | google-drive-ocamlfuse -headless -id={creds.client_id} -secret={creds.client_secret}"
   ]
  },
  {
   "cell_type": "code",
   "execution_count": 9,
   "metadata": {
    "colab": {
     "autoexec": {
      "startup": false,
      "wait_interval": 0
     },
     "base_uri": "https://localhost:8080/",
     "height": 51
    },
    "colab_type": "code",
    "executionInfo": {
     "elapsed": 6050,
     "status": "ok",
     "timestamp": 1532848091559,
     "user": {
      "displayName": "Tushar Nema",
      "photoUrl": "https://lh3.googleusercontent.com/a/default-user=s128",
      "userId": "116547679340556707397"
     },
     "user_tz": -330
    },
    "id": "zWx2tZYuyoDX",
    "outputId": "9e1c93b5-de82-4cb2-f19c-f84856b4c597"
   },
   "outputs": [
    {
     "name": "stdout",
     "output_type": "stream",
     "text": [
      "Files in Drive:\n",
      "dog.jpg  fer2013.csv\n"
     ]
    }
   ],
   "source": [
    "# Create a directory and mount Google Drive using that directory.\n",
    "!mkdir -p drive\n",
    "!google-drive-ocamlfuse drive\n",
    "\n",
    "print('Files in Drive:')\n",
    "!ls drive/Datasets\n",
    "\n",
    "\n"
   ]
  },
  {
   "cell_type": "code",
   "execution_count": null,
   "metadata": {
    "colab": {
     "autoexec": {
      "startup": false,
      "wait_interval": 0
     }
    },
    "colab_type": "code",
    "id": "9lQYU63Sy3pG"
   },
   "outputs": [],
   "source": [
    "#import cv2\n",
    "import sys\n",
    "import os\n",
    "#import glob\n",
    "import tensorflow as tf\n",
    "import numpy as np\n",
    "import pandas as pd\n",
    "import matplotlib.pyplot as plt\n",
    "import seaborn as sns\n",
    "%matplotlib inline"
   ]
  },
  {
   "cell_type": "code",
   "execution_count": null,
   "metadata": {
    "colab": {
     "autoexec": {
      "startup": false,
      "wait_interval": 0
     }
    },
    "colab_type": "code",
    "id": "JqU_BzO8zZW0"
   },
   "outputs": [],
   "source": [
    "df = pd.read_csv(\"drive/Datasets/fer2013.csv\")\n",
    "\n",
    "\n"
   ]
  },
  {
   "cell_type": "code",
   "execution_count": 12,
   "metadata": {
    "colab": {
     "autoexec": {
      "startup": false,
      "wait_interval": 0
     },
     "base_uri": "https://localhost:8080/",
     "height": 34
    },
    "colab_type": "code",
    "executionInfo": {
     "elapsed": 1457,
     "status": "ok",
     "timestamp": 1532848113236,
     "user": {
      "displayName": "Tushar Nema",
      "photoUrl": "https://lh3.googleusercontent.com/a/default-user=s128",
      "userId": "116547679340556707397"
     },
     "user_tz": -330
    },
    "id": "xB64A0Ahzlxv",
    "outputId": "9c1bef90-ad9c-4e3d-b32f-bebaae368c2c"
   },
   "outputs": [
    {
     "data": {
      "text/plain": [
       "array([0, 2, 4, 6, 3, 5, 1])"
      ]
     },
     "execution_count": 12,
     "metadata": {
      "tags": []
     },
     "output_type": "execute_result"
    }
   ],
   "source": [
    "df['emotion'].unique()"
   ]
  },
  {
   "cell_type": "code",
   "execution_count": null,
   "metadata": {
    "colab": {
     "autoexec": {
      "startup": false,
      "wait_interval": 0
     }
    },
    "colab_type": "code",
    "id": "eM1ECmOxzpzm"
   },
   "outputs": [],
   "source": [
    "from sklearn.model_selection import train_test_split"
   ]
  },
  {
   "cell_type": "code",
   "execution_count": null,
   "metadata": {
    "colab": {
     "autoexec": {
      "startup": false,
      "wait_interval": 0
     }
    },
    "colab_type": "code",
    "id": "2urJwsHIzr7F"
   },
   "outputs": [],
   "source": [
    "X_train, X_test, y_train, y_test = train_test_split(df['pixels'], df['emotion'], test_size=0.3, random_state=30)"
   ]
  },
  {
   "cell_type": "code",
   "execution_count": null,
   "metadata": {
    "colab": {
     "autoexec": {
      "startup": false,
      "wait_interval": 0
     }
    },
    "colab_type": "code",
    "id": "WsnvP3ioz0Q9"
   },
   "outputs": [],
   "source": [
    "df_train=pd.DataFrame({'index':X_train.index, 'value':X_train.values})"
   ]
  },
  {
   "cell_type": "code",
   "execution_count": null,
   "metadata": {
    "colab": {
     "autoexec": {
      "startup": false,
      "wait_interval": 0
     }
    },
    "colab_type": "code",
    "id": "UM4EVgFR0ArJ"
   },
   "outputs": [],
   "source": [
    "df_test=pd.DataFrame({'index':X_test.index, 'value':X_test.values})"
   ]
  },
  {
   "cell_type": "code",
   "execution_count": 17,
   "metadata": {
    "colab": {
     "autoexec": {
      "startup": false,
      "wait_interval": 0
     },
     "base_uri": "https://localhost:8080/",
     "height": 204
    },
    "colab_type": "code",
    "executionInfo": {
     "elapsed": 2017,
     "status": "ok",
     "timestamp": 1532848122247,
     "user": {
      "displayName": "Tushar Nema",
      "photoUrl": "https://lh3.googleusercontent.com/a/default-user=s128",
      "userId": "116547679340556707397"
     },
     "user_tz": -330
    },
    "id": "XL91e1GA0DEw",
    "outputId": "3c66019f-8649-4290-ee82-177c498df5ff"
   },
   "outputs": [
    {
     "data": {
      "text/html": [
       "<div>\n",
       "<style scoped>\n",
       "    .dataframe tbody tr th:only-of-type {\n",
       "        vertical-align: middle;\n",
       "    }\n",
       "\n",
       "    .dataframe tbody tr th {\n",
       "        vertical-align: top;\n",
       "    }\n",
       "\n",
       "    .dataframe thead th {\n",
       "        text-align: right;\n",
       "    }\n",
       "</style>\n",
       "<table border=\"1\" class=\"dataframe\">\n",
       "  <thead>\n",
       "    <tr style=\"text-align: right;\">\n",
       "      <th></th>\n",
       "      <th>index</th>\n",
       "      <th>value</th>\n",
       "    </tr>\n",
       "  </thead>\n",
       "  <tbody>\n",
       "    <tr>\n",
       "      <th>0</th>\n",
       "      <td>26449</td>\n",
       "      <td>232 231 228 223 225 225 220 217 179 170 186 19...</td>\n",
       "    </tr>\n",
       "    <tr>\n",
       "      <th>1</th>\n",
       "      <td>26627</td>\n",
       "      <td>134 134 128 124 130 130 131 130 122 123 115 11...</td>\n",
       "    </tr>\n",
       "    <tr>\n",
       "      <th>2</th>\n",
       "      <td>28952</td>\n",
       "      <td>52 4 34 69 94 108 127 141 154 160 170 177 184 ...</td>\n",
       "    </tr>\n",
       "    <tr>\n",
       "      <th>3</th>\n",
       "      <td>23262</td>\n",
       "      <td>255 255 255 255 255 252 255 236 139 105 116 12...</td>\n",
       "    </tr>\n",
       "    <tr>\n",
       "      <th>4</th>\n",
       "      <td>4987</td>\n",
       "      <td>229 231 232 233 233 235 220 136 139 130 118 14...</td>\n",
       "    </tr>\n",
       "  </tbody>\n",
       "</table>\n",
       "</div>"
      ],
      "text/plain": [
       "   index                                              value\n",
       "0  26449  232 231 228 223 225 225 220 217 179 170 186 19...\n",
       "1  26627  134 134 128 124 130 130 131 130 122 123 115 11...\n",
       "2  28952  52 4 34 69 94 108 127 141 154 160 170 177 184 ...\n",
       "3  23262  255 255 255 255 255 252 255 236 139 105 116 12...\n",
       "4   4987  229 231 232 233 233 235 220 136 139 130 118 14..."
      ]
     },
     "execution_count": 17,
     "metadata": {
      "tags": []
     },
     "output_type": "execute_result"
    }
   ],
   "source": [
    "df_test.head()"
   ]
  },
  {
   "cell_type": "code",
   "execution_count": null,
   "metadata": {
    "colab": {
     "autoexec": {
      "startup": false,
      "wait_interval": 0
     }
    },
    "colab_type": "code",
    "id": "77dMWt8V0FIP"
   },
   "outputs": [],
   "source": [
    "X_train=df_train['value']"
   ]
  },
  {
   "cell_type": "code",
   "execution_count": null,
   "metadata": {
    "colab": {
     "autoexec": {
      "startup": false,
      "wait_interval": 0
     }
    },
    "colab_type": "code",
    "id": "Z7_tWnRi0Kp4"
   },
   "outputs": [],
   "source": [
    "X_test=df_test['value']"
   ]
  },
  {
   "cell_type": "code",
   "execution_count": null,
   "metadata": {
    "colab": {
     "autoexec": {
      "startup": false,
      "wait_interval": 0
     }
    },
    "colab_type": "code",
    "id": "lP5Wp-af0Ml3"
   },
   "outputs": [],
   "source": [
    "images=[]\n",
    "\n",
    "for i in range(len(X_train)):\n",
    "    image_string = X_train[i]\n",
    "    image = [int(x) for x in image_string.split()]\n",
    "    image=np.array(image,dtype='float32')\n",
    "    image=image.reshape((48,48,1))\n",
    "    images.append(image)"
   ]
  },
  {
   "cell_type": "code",
   "execution_count": null,
   "metadata": {
    "colab": {
     "autoexec": {
      "startup": false,
      "wait_interval": 0
     }
    },
    "colab_type": "code",
    "id": "hPTweoQG0WIZ"
   },
   "outputs": [],
   "source": [
    "images_test=[]\n",
    "\n",
    "for i in range(len(X_test)):\n",
    "    image_string = X_test[i]\n",
    "    image = [int(x) for x in image_string.split()]\n",
    "    image=np.array(image,dtype='float32')\n",
    "    image=image.reshape((48,48,1))\n",
    "    images_test.append(image)"
   ]
  },
  {
   "cell_type": "code",
   "execution_count": 22,
   "metadata": {
    "colab": {
     "autoexec": {
      "startup": false,
      "wait_interval": 0
     },
     "base_uri": "https://localhost:8080/",
     "height": 267
    },
    "colab_type": "code",
    "executionInfo": {
     "elapsed": 1154,
     "status": "ok",
     "timestamp": 1532848164537,
     "user": {
      "displayName": "Tushar Nema",
      "photoUrl": "https://lh3.googleusercontent.com/a/default-user=s128",
      "userId": "116547679340556707397"
     },
     "user_tz": -330
    },
    "id": "pEUtPMpq0cL_",
    "outputId": "889b898b-0d3a-437b-c3ee-93aca24cdc35"
   },
   "outputs": [
    {
     "data": {
      "image/png": "[encoded data removed]",
      "text/plain": [
       "<matplotlib.figure.Figure at 0x7f404f0c1f28>"
      ]
     },
     "metadata": {
      "tags": []
     },
     "output_type": "display_data"
    }
   ],
   "source": [
    "plt.imshow(images_test[2].reshape((48,48)))\n",
    "plt.show()"
   ]
  },
  {
   "cell_type": "code",
   "execution_count": null,
   "metadata": {
    "colab": {
     "autoexec": {
      "startup": false,
      "wait_interval": 0
     }
    },
    "colab_type": "code",
    "id": "-6i_mAq-0gLh"
   },
   "outputs": [],
   "source": [
    "def convert_to_one_hot(Y, C):\n",
    "    Y = np.eye(C)[Y.reshape(-1)]\n",
    "    return Y"
   ]
  },
  {
   "cell_type": "code",
   "execution_count": 24,
   "metadata": {
    "colab": {
     "autoexec": {
      "startup": false,
      "wait_interval": 0
     },
     "base_uri": "https://localhost:8080/",
     "height": 91
    },
    "colab_type": "code",
    "executionInfo": {
     "elapsed": 966,
     "status": "ok",
     "timestamp": 1532848167021,
     "user": {
      "displayName": "Tushar Nema",
      "photoUrl": "https://lh3.googleusercontent.com/a/default-user=s128",
      "userId": "116547679340556707397"
     },
     "user_tz": -330
    },
    "id": "yY-JcFQz0jSP",
    "outputId": "25c1f8b8-966d-45f7-efe5-fad115799731"
   },
   "outputs": [
    {
     "name": "stderr",
     "output_type": "stream",
     "text": [
      "/usr/local/lib/python3.6/dist-packages/ipykernel_launcher.py:2: FutureWarning: reshape is deprecated and will raise in a subsequent release. Please use .values.reshape(...) instead\n",
      "  \n"
     ]
    }
   ],
   "source": [
    "y_train_hot=convert_to_one_hot(y_train,7)"
   ]
  },
  {
   "cell_type": "code",
   "execution_count": 25,
   "metadata": {
    "colab": {
     "autoexec": {
      "startup": false,
      "wait_interval": 0
     },
     "base_uri": "https://localhost:8080/",
     "height": 91
    },
    "colab_type": "code",
    "executionInfo": {
     "elapsed": 1317,
     "status": "ok",
     "timestamp": 1532848168481,
     "user": {
      "displayName": "Tushar Nema",
      "photoUrl": "https://lh3.googleusercontent.com/a/default-user=s128",
      "userId": "116547679340556707397"
     },
     "user_tz": -330
    },
    "id": "XnW4c-440sZS",
    "outputId": "c303c8aa-d80d-4d1a-b97f-2f578456af83"
   },
   "outputs": [
    {
     "name": "stderr",
     "output_type": "stream",
     "text": [
      "/usr/local/lib/python3.6/dist-packages/ipykernel_launcher.py:2: FutureWarning: reshape is deprecated and will raise in a subsequent release. Please use .values.reshape(...) instead\n",
      "  \n"
     ]
    }
   ],
   "source": [
    "y_test_hot=convert_to_one_hot(y_test,7)"
   ]
  },
  {
   "cell_type": "code",
   "execution_count": 26,
   "metadata": {
    "colab": {
     "autoexec": {
      "startup": false,
      "wait_interval": 0
     },
     "base_uri": "https://localhost:8080/",
     "height": 34
    },
    "colab_type": "code",
    "executionInfo": {
     "elapsed": 1405,
     "status": "ok",
     "timestamp": 1532848169957,
     "user": {
      "displayName": "Tushar Nema",
      "photoUrl": "https://lh3.googleusercontent.com/a/default-user=s128",
      "userId": "116547679340556707397"
     },
     "user_tz": -330
    },
    "id": "_Z3xUzHh0vCl",
    "outputId": "022882dd-afc7-4a3b-af39-7bf058475717"
   },
   "outputs": [
    {
     "data": {
      "text/plain": [
       "(128, 7)"
      ]
     },
     "execution_count": 26,
     "metadata": {
      "tags": []
     },
     "output_type": "execute_result"
    }
   ],
   "source": [
    "(y_train_hot[:128].shape)"
   ]
  },
  {
   "cell_type": "code",
   "execution_count": null,
   "metadata": {
    "colab": {
     "autoexec": {
      "startup": false,
      "wait_interval": 0
     }
    },
    "colab_type": "code",
    "id": "pmg6YWx917Wv"
   },
   "outputs": [],
   "source": [
    "#images.shape[1:]"
   ]
  },
  {
   "cell_type": "code",
   "execution_count": 30,
   "metadata": {
    "colab": {
     "autoexec": {
      "startup": false,
      "wait_interval": 0
     },
     "base_uri": "https://localhost:8080/",
     "height": 34
    },
    "colab_type": "code",
    "executionInfo": {
     "elapsed": 1430,
     "status": "ok",
     "timestamp": 1532848184004,
     "user": {
      "displayName": "Tushar Nema",
      "photoUrl": "https://lh3.googleusercontent.com/a/default-user=s128",
      "userId": "116547679340556707397"
     },
     "user_tz": -330
    },
    "id": "X8zBQaGm0xDp",
    "outputId": "3a3857ef-594c-4db6-dc9b-1da5b313e911"
   },
   "outputs": [
    {
     "data": {
      "text/plain": [
       "(10767, 2304)"
      ]
     },
     "execution_count": 30,
     "metadata": {
      "tags": []
     },
     "output_type": "execute_result"
    }
   ],
   "source": [
    "images=np.array(images)\n",
    "images_test=np.array(images_test)\n",
    "images_test.reshape((10767,2304)).shape"
   ]
  },
  {
   "cell_type": "code",
   "execution_count": 31,
   "metadata": {
    "colab": {
     "autoexec": {
      "startup": false,
      "wait_interval": 0
     },
     "base_uri": "https://localhost:8080/",
     "height": 34
    },
    "colab_type": "code",
    "executionInfo": {
     "elapsed": 1154,
     "status": "ok",
     "timestamp": 1532848187060,
     "user": {
      "displayName": "Tushar Nema",
      "photoUrl": "https://lh3.googleusercontent.com/a/default-user=s128",
      "userId": "116547679340556707397"
     },
     "user_tz": -330
    },
    "id": "z3wy_l8U02Ep",
    "outputId": "82030f43-48c6-426c-ff3a-a9324dc580c1"
   },
   "outputs": [
    {
     "name": "stderr",
     "output_type": "stream",
     "text": [
      "Using TensorFlow backend.\n"
     ]
    }
   ],
   "source": [
    "import keras\n",
    "from keras.datasets import cifar10\n",
    "from keras.preprocessing.image import ImageDataGenerator\n",
    "from keras.models import Sequential\n",
    "from keras.layers import Dense, Dropout, Activation, Flatten\n",
    "from keras.layers import Conv2D, MaxPooling2D\n",
    "import os"
   ]
  },
  {
   "cell_type": "code",
   "execution_count": null,
   "metadata": {
    "colab": {
     "autoexec": {
      "startup": false,
      "wait_interval": 0
     }
    },
    "colab_type": "code",
    "id": "bSZOW0pV1RBd"
   },
   "outputs": [],
   "source": [
    "model = Sequential()\n",
    "model.add(Conv2D(32, (3, 3), padding='same',\n",
    "                 input_shape=images.shape[1:]))\n",
    "model.add(Activation('relu'))\n",
    "model.add(Conv2D(32, (3, 3)))\n",
    "model.add(Activation('relu'))\n",
    "model.add(MaxPooling2D(pool_size=(2, 2)))\n",
    "model.add(Dropout(0.25))\n",
    "\n",
    "model.add(Conv2D(64, (3, 3), padding='same'))\n",
    "model.add(Activation('relu'))\n",
    "model.add(Conv2D(64, (3, 3)))\n",
    "model.add(Activation('relu'))\n",
    "model.add(MaxPooling2D(pool_size=(2, 2)))\n",
    "model.add(Dropout(0.25))\n",
    "\n",
    "model.add(Flatten())\n",
    "model.add(Dense(64))\n",
    "model.add(Activation('relu'))\n",
    "model.add(Dropout(0.5))\n",
    "model.add(Dense(7))\n",
    "model.add(Activation('sigmoid'))"
   ]
  },
  {
   "cell_type": "code",
   "execution_count": null,
   "metadata": {
    "colab": {
     "autoexec": {
      "startup": false,
      "wait_interval": 0
     }
    },
    "colab_type": "code",
    "id": "rrWzc9Y92QhS"
   },
   "outputs": [],
   "source": [
    "# Compiling model\n",
    "model.compile(loss='categorical_crossentropy', optimizer='adam', metrics=['accuracy'])"
   ]
  },
  {
   "cell_type": "code",
   "execution_count": 41,
   "metadata": {
    "colab": {
     "autoexec": {
      "startup": false,
      "wait_interval": 0
     },
     "base_uri": "https://localhost:8080/",
     "height": 748
    },
    "colab_type": "code",
    "executionInfo": {
     "elapsed": 738,
     "status": "ok",
     "timestamp": 1532848990826,
     "user": {
      "displayName": "Tushar Nema",
      "photoUrl": "https://lh3.googleusercontent.com/a/default-user=s128",
      "userId": "116547679340556707397"
     },
     "user_tz": -330
    },
    "id": "UIIobUcN2OEF",
    "outputId": "8f07a649-2fb0-401c-8f43-f77079a53ccb"
   },
   "outputs": [
    {
     "name": "stdout",
     "output_type": "stream",
     "text": [
      "_________________________________________________________________\n",
      "Layer (type)                 Output Shape              Param #   \n",
      "=================================================================\n",
      "conv2d_5 (Conv2D)            (None, 48, 48, 32)        320       \n",
      "_________________________________________________________________\n",
      "activation_7 (Activation)    (None, 48, 48, 32)        0         \n",
      "_________________________________________________________________\n",
      "conv2d_6 (Conv2D)            (None, 46, 46, 32)        9248      \n",
      "_________________________________________________________________\n",
      "activation_8 (Activation)    (None, 46, 46, 32)        0         \n",
      "_________________________________________________________________\n",
      "max_pooling2d_3 (MaxPooling2 (None, 23, 23, 32)        0         \n",
      "_________________________________________________________________\n",
      "dropout_4 (Dropout)          (None, 23, 23, 32)        0         \n",
      "_________________________________________________________________\n",
      "conv2d_7 (Conv2D)            (None, 23, 23, 64)        18496     \n",
      "_________________________________________________________________\n",
      "activation_9 (Activation)    (None, 23, 23, 64)        0         \n",
      "_________________________________________________________________\n",
      "conv2d_8 (Conv2D)            (None, 21, 21, 64)        36928     \n",
      "_________________________________________________________________\n",
      "activation_10 (Activation)   (None, 21, 21, 64)        0         \n",
      "_________________________________________________________________\n",
      "max_pooling2d_4 (MaxPooling2 (None, 10, 10, 64)        0         \n",
      "_________________________________________________________________\n",
      "dropout_5 (Dropout)          (None, 10, 10, 64)        0         \n",
      "_________________________________________________________________\n",
      "flatten_2 (Flatten)          (None, 6400)              0         \n",
      "_________________________________________________________________\n",
      "dense_3 (Dense)              (None, 64)                409664    \n",
      "_________________________________________________________________\n",
      "activation_11 (Activation)   (None, 64)                0         \n",
      "_________________________________________________________________\n",
      "dropout_6 (Dropout)          (None, 64)                0         \n",
      "_________________________________________________________________\n",
      "dense_4 (Dense)              (None, 7)                 455       \n",
      "_________________________________________________________________\n",
      "activation_12 (Activation)   (None, 7)                 0         \n",
      "=================================================================\n",
      "Total params: 475,111\n",
      "Trainable params: 475,111\n",
      "Non-trainable params: 0\n",
      "_________________________________________________________________\n"
     ]
    }
   ],
   "source": [
    "model.summary()"
   ]
  },
  {
   "cell_type": "code",
   "execution_count": 48,
   "metadata": {
    "colab": {
     "autoexec": {
      "startup": false,
      "wait_interval": 0
     },
     "base_uri": "https://localhost:8080/",
     "height": 34
    },
    "colab_type": "code",
    "executionInfo": {
     "elapsed": 1175,
     "status": "ok",
     "timestamp": 1532851348600,
     "user": {
      "displayName": "Tushar Nema",
      "photoUrl": "https://lh3.googleusercontent.com/a/default-user=s128",
      "userId": "116547679340556707397"
     },
     "user_tz": -330
    },
    "id": "OqUO7PkF4H6A",
    "outputId": "20067470-1728-4f67-ab1c-8cd9b8f6fde1"
   },
   "outputs": [
    {
     "data": {
      "text/plain": [
       "(10767, 48, 48, 1)"
      ]
     },
     "execution_count": 48,
     "metadata": {
      "tags": []
     },
     "output_type": "execute_result"
    }
   ],
   "source": [
    "images_test.shape"
   ]
  },
  {
   "cell_type": "code",
   "execution_count": 43,
   "metadata": {
    "colab": {
     "autoexec": {
      "startup": false,
      "wait_interval": 0
     },
     "base_uri": "https://localhost:8080/",
     "height": 10217
    },
    "colab_type": "code",
    "executionInfo": {
     "elapsed": 2293207,
     "status": "ok",
     "timestamp": 1532851289604,
     "user": {
      "displayName": "Tushar Nema",
      "photoUrl": "https://lh3.googleusercontent.com/a/default-user=s128",
      "userId": "116547679340556707397"
     },
     "user_tz": -330
    },
    "id": "emsqHvGC2n73",
    "outputId": "962aa51c-6bfd-4087-cc5a-59feda0c1a71"
   },
   "outputs": [
    {
     "name": "stdout",
     "output_type": "stream",
     "text": [
      "Epoch 1/300\n",
      " - 8s - loss: 2.5548 - acc: 0.1363\n",
      "Epoch 2/300\n",
      " - 8s - loss: 2.0287 - acc: 0.1375\n",
      "Epoch 3/300\n",
      " - 8s - loss: 1.8993 - acc: 0.1577\n",
      "Epoch 4/300\n",
      " - 8s - loss: 1.8404 - acc: 0.2293\n",
      "Epoch 5/300\n",
      " - 8s - loss: 1.8042 - acc: 0.2514\n",
      "Epoch 6/300\n",
      " - 8s - loss: 1.7651 - acc: 0.2882\n",
      "Epoch 7/300\n",
      " - 8s - loss: 1.7393 - acc: 0.3022\n",
      "Epoch 8/300\n",
      " - 8s - loss: 1.7050 - acc: 0.3230\n",
      "Epoch 9/300\n",
      " - 8s - loss: 1.6662 - acc: 0.3407\n",
      "Epoch 10/300\n",
      " - 8s - loss: 1.6342 - acc: 0.3520\n",
      "Epoch 11/300\n",
      " - 8s - loss: 1.6193 - acc: 0.3651\n",
      "Epoch 12/300\n",
      " - 8s - loss: 1.5967 - acc: 0.3706\n",
      "Epoch 13/300\n",
      " - 8s - loss: 1.5606 - acc: 0.3872\n",
      "Epoch 14/300\n",
      " - 8s - loss: 1.5440 - acc: 0.3907\n",
      "Epoch 15/300\n",
      " - 8s - loss: 1.5191 - acc: 0.4036\n",
      "Epoch 16/300\n",
      " - 8s - loss: 1.5100 - acc: 0.4089\n",
      "Epoch 17/300\n",
      " - 8s - loss: 1.4885 - acc: 0.4187\n",
      "Epoch 18/300\n",
      " - 8s - loss: 1.4674 - acc: 0.4264\n",
      "Epoch 19/300\n",
      " - 8s - loss: 1.4483 - acc: 0.4370\n",
      "Epoch 20/300\n",
      " - 8s - loss: 1.4301 - acc: 0.4500\n",
      "Epoch 21/300\n",
      " - 8s - loss: 1.4079 - acc: 0.4582\n",
      "Epoch 22/300\n",
      " - 8s - loss: 1.3811 - acc: 0.4660\n",
      "Epoch 23/300\n",
      " - 8s - loss: 1.3731 - acc: 0.4742\n",
      "Epoch 24/300\n",
      " - 8s - loss: 1.3560 - acc: 0.4762\n",
      "Epoch 25/300\n",
      " - 8s - loss: 1.3500 - acc: 0.4799\n",
      "Epoch 26/300\n",
      " - 8s - loss: 1.3302 - acc: 0.4905\n",
      "Epoch 27/300\n",
      " - 8s - loss: 1.3104 - acc: 0.4920\n",
      "Epoch 28/300\n",
      " - 8s - loss: 1.3111 - acc: 0.4958\n",
      "Epoch 29/300\n",
      " - 8s - loss: 1.3079 - acc: 0.4966\n",
      "Epoch 30/300\n",
      " - 8s - loss: 1.2874 - acc: 0.5025\n",
      "Epoch 31/300\n",
      " - 8s - loss: 1.2801 - acc: 0.5106\n",
      "Epoch 32/300\n",
      " - 8s - loss: 1.2561 - acc: 0.5158\n",
      "Epoch 33/300\n",
      " - 8s - loss: 1.2553 - acc: 0.5148\n",
      "Epoch 34/300\n",
      " - 8s - loss: 1.2410 - acc: 0.5194\n",
      "Epoch 35/300\n",
      " - 8s - loss: 1.2325 - acc: 0.5264\n",
      "Epoch 36/300\n",
      " - 8s - loss: 1.2251 - acc: 0.5275\n",
      "Epoch 37/300\n",
      " - 8s - loss: 1.2077 - acc: 0.5297\n",
      "Epoch 38/300\n",
      " - 8s - loss: 1.2007 - acc: 0.5417\n",
      "Epoch 39/300\n",
      " - 8s - loss: 1.1859 - acc: 0.5410\n",
      "Epoch 40/300\n",
      " - 8s - loss: 1.1851 - acc: 0.5451\n",
      "Epoch 41/300\n",
      " - 8s - loss: 1.1714 - acc: 0.5491\n",
      "Epoch 42/300\n",
      " - 8s - loss: 1.1569 - acc: 0.5512\n",
      "Epoch 43/300\n",
      " - 8s - loss: 1.1440 - acc: 0.5595\n",
      "Epoch 44/300\n",
      " - 8s - loss: 1.1324 - acc: 0.5628\n",
      "Epoch 45/300\n",
      " - 8s - loss: 1.1239 - acc: 0.5614\n",
      "Epoch 46/300\n",
      " - 8s - loss: 1.1174 - acc: 0.5682\n",
      "Epoch 47/300\n",
      " - 8s - loss: 1.1150 - acc: 0.5697\n",
      "Epoch 48/300\n",
      " - 8s - loss: 1.1039 - acc: 0.5736\n",
      "Epoch 49/300\n",
      " - 8s - loss: 1.0974 - acc: 0.5769\n",
      "Epoch 50/300\n",
      " - 8s - loss: 1.0909 - acc: 0.5759\n",
      "Epoch 51/300\n",
      " - 8s - loss: 1.0693 - acc: 0.5814\n",
      "Epoch 52/300\n",
      " - 8s - loss: 1.0711 - acc: 0.5846\n",
      "Epoch 53/300\n",
      " - 8s - loss: 1.0502 - acc: 0.5918\n",
      "Epoch 54/300\n",
      " - 8s - loss: 1.0392 - acc: 0.6013\n",
      "Epoch 55/300\n",
      " - 8s - loss: 1.0350 - acc: 0.6012\n",
      "Epoch 56/300\n",
      " - 8s - loss: 1.0200 - acc: 0.6069\n",
      "Epoch 57/300\n",
      " - 8s - loss: 1.0171 - acc: 0.6051\n",
      "Epoch 58/300\n",
      " - 8s - loss: 1.0139 - acc: 0.6097\n",
      "Epoch 59/300\n",
      " - 8s - loss: 1.0044 - acc: 0.6072\n",
      "Epoch 60/300\n",
      " - 8s - loss: 0.9918 - acc: 0.6162\n",
      "Epoch 61/300\n",
      " - 8s - loss: 0.9869 - acc: 0.6201\n",
      "Epoch 62/300\n",
      " - 8s - loss: 0.9788 - acc: 0.6217\n",
      "Epoch 63/300\n",
      " - 8s - loss: 0.9756 - acc: 0.6234\n",
      "Epoch 64/300\n",
      " - 8s - loss: 0.9701 - acc: 0.6258\n",
      "Epoch 65/300\n",
      " - 8s - loss: 0.9699 - acc: 0.6259\n",
      "Epoch 66/300\n",
      " - 8s - loss: 0.9643 - acc: 0.6260\n",
      "Epoch 67/300\n",
      " - 8s - loss: 0.9520 - acc: 0.6350\n",
      "Epoch 68/300\n",
      " - 8s - loss: 0.9492 - acc: 0.6306\n",
      "Epoch 69/300\n",
      " - 8s - loss: 0.9337 - acc: 0.6425\n",
      "Epoch 70/300\n",
      " - 8s - loss: 0.9258 - acc: 0.6437\n",
      "Epoch 71/300\n",
      " - 8s - loss: 0.9192 - acc: 0.6459\n",
      "Epoch 72/300\n",
      " - 8s - loss: 0.9157 - acc: 0.6495\n",
      "Epoch 73/300\n",
      " - 8s - loss: 0.9050 - acc: 0.6543\n",
      "Epoch 74/300\n",
      " - 8s - loss: 0.9105 - acc: 0.6449\n",
      "Epoch 75/300\n",
      " - 8s - loss: 0.9029 - acc: 0.6492\n",
      "Epoch 76/300\n",
      " - 8s - loss: 0.8851 - acc: 0.6570\n",
      "Epoch 77/300\n",
      " - 8s - loss: 0.8817 - acc: 0.6639\n",
      "Epoch 78/300\n",
      " - 8s - loss: 0.8798 - acc: 0.6561\n",
      "Epoch 79/300\n",
      " - 8s - loss: 0.8796 - acc: 0.6587\n",
      "Epoch 80/300\n",
      " - 8s - loss: 0.8730 - acc: 0.6643\n",
      "Epoch 81/300\n",
      " - 8s - loss: 0.8743 - acc: 0.6615\n",
      "Epoch 82/300\n",
      " - 8s - loss: 0.8671 - acc: 0.6668\n",
      "Epoch 83/300\n",
      " - 8s - loss: 0.8552 - acc: 0.6680\n",
      "Epoch 84/300\n",
      " - 8s - loss: 0.8454 - acc: 0.6728\n",
      "Epoch 85/300\n",
      " - 8s - loss: 0.8411 - acc: 0.6761\n",
      "Epoch 86/300\n",
      " - 8s - loss: 0.8308 - acc: 0.6775\n",
      "Epoch 87/300\n",
      " - 8s - loss: 0.8351 - acc: 0.6729\n",
      "Epoch 88/300\n",
      " - 8s - loss: 0.8257 - acc: 0.6773\n",
      "Epoch 89/300\n",
      " - 8s - loss: 0.8337 - acc: 0.6798\n",
      "Epoch 90/300\n",
      " - 8s - loss: 0.8380 - acc: 0.6803\n",
      "Epoch 91/300\n",
      " - 8s - loss: 0.8430 - acc: 0.6792\n",
      "Epoch 92/300\n",
      " - 8s - loss: 0.8351 - acc: 0.6783\n",
      "Epoch 93/300\n",
      " - 8s - loss: 0.8364 - acc: 0.6803\n",
      "Epoch 94/300\n",
      " - 8s - loss: 0.8321 - acc: 0.6775\n",
      "Epoch 95/300\n",
      " - 8s - loss: 0.8185 - acc: 0.6869\n",
      "Epoch 96/300\n",
      " - 8s - loss: 0.8009 - acc: 0.6875\n",
      "Epoch 97/300\n",
      " - 8s - loss: 0.7973 - acc: 0.6922\n",
      "Epoch 98/300\n",
      " - 8s - loss: 0.8010 - acc: 0.6928\n",
      "Epoch 99/300\n",
      " - 8s - loss: 0.7916 - acc: 0.6961\n",
      "Epoch 100/300\n",
      " - 8s - loss: 0.7800 - acc: 0.6996\n",
      "Epoch 101/300\n",
      " - 8s - loss: 0.7795 - acc: 0.7014\n",
      "Epoch 102/300\n",
      " - 8s - loss: 0.7663 - acc: 0.7048\n",
      "Epoch 103/300\n",
      " - 8s - loss: 0.7581 - acc: 0.7041\n",
      "Epoch 104/300\n",
      " - 8s - loss: 0.7614 - acc: 0.7030\n",
      "Epoch 105/300\n",
      " - 8s - loss: 0.7607 - acc: 0.7059\n",
      "Epoch 106/300\n",
      " - 8s - loss: 0.7506 - acc: 0.7109\n",
      "Epoch 107/300\n",
      " - 8s - loss: 0.7496 - acc: 0.7088\n",
      "Epoch 108/300\n",
      " - 8s - loss: 0.7382 - acc: 0.7119\n",
      "Epoch 109/300\n",
      " - 8s - loss: 0.7480 - acc: 0.7131\n",
      "Epoch 110/300\n",
      " - 8s - loss: 0.7357 - acc: 0.7144\n",
      "Epoch 111/300\n",
      " - 8s - loss: 0.7402 - acc: 0.7121\n",
      "Epoch 112/300\n",
      " - 8s - loss: 0.7343 - acc: 0.7176\n",
      "Epoch 113/300\n",
      " - 8s - loss: 0.7380 - acc: 0.7143\n",
      "Epoch 114/300\n",
      " - 8s - loss: 0.7342 - acc: 0.7180\n",
      "Epoch 115/300\n",
      " - 8s - loss: 0.7388 - acc: 0.7143\n",
      "Epoch 116/300\n",
      " - 8s - loss: 0.7239 - acc: 0.7211\n",
      "Epoch 117/300\n",
      " - 8s - loss: 0.7266 - acc: 0.7178\n",
      "Epoch 118/300\n",
      " - 8s - loss: 0.7171 - acc: 0.7225\n",
      "Epoch 119/300\n",
      " - 8s - loss: 0.7271 - acc: 0.7226\n",
      "Epoch 120/300\n",
      " - 8s - loss: 0.7156 - acc: 0.7272\n",
      "Epoch 121/300\n",
      " - 8s - loss: 0.7102 - acc: 0.7249\n",
      "Epoch 122/300\n",
      " - 8s - loss: 0.7020 - acc: 0.7268\n",
      "Epoch 123/300\n",
      " - 8s - loss: 0.7013 - acc: 0.7296\n",
      "Epoch 124/300\n",
      " - 8s - loss: 0.7005 - acc: 0.7281\n",
      "Epoch 125/300\n",
      " - 8s - loss: 0.6948 - acc: 0.7303\n",
      "Epoch 126/300\n",
      " - 8s - loss: 0.7094 - acc: 0.7281\n",
      "Epoch 127/300\n",
      " - 8s - loss: 0.7036 - acc: 0.7301\n",
      "Epoch 128/300\n",
      " - 8s - loss: 0.7082 - acc: 0.7286\n",
      "Epoch 129/300\n",
      " - 8s - loss: 0.6876 - acc: 0.7343\n",
      "Epoch 130/300\n",
      " - 8s - loss: 0.6893 - acc: 0.7360\n",
      "Epoch 131/300\n",
      " - 8s - loss: 0.6863 - acc: 0.7384\n",
      "Epoch 132/300\n",
      " - 8s - loss: 0.6894 - acc: 0.7326\n",
      "Epoch 133/300\n",
      " - 8s - loss: 0.6936 - acc: 0.7351\n",
      "Epoch 134/300\n",
      " - 8s - loss: 0.6904 - acc: 0.7348\n",
      "Epoch 135/300\n",
      " - 8s - loss: 0.6892 - acc: 0.7368\n",
      "Epoch 136/300\n",
      " - 8s - loss: 0.6880 - acc: 0.7396\n",
      "Epoch 137/300\n",
      " - 8s - loss: 0.6704 - acc: 0.7437\n",
      "Epoch 138/300\n",
      " - 8s - loss: 0.6708 - acc: 0.7433\n",
      "Epoch 139/300\n",
      " - 8s - loss: 0.6873 - acc: 0.7371\n",
      "Epoch 140/300\n",
      " - 8s - loss: 0.6685 - acc: 0.7429\n",
      "Epoch 141/300\n",
      " - 8s - loss: 0.6712 - acc: 0.7443\n",
      "Epoch 142/300\n",
      " - 8s - loss: 0.6686 - acc: 0.7426\n",
      "Epoch 143/300\n",
      " - 8s - loss: 0.6706 - acc: 0.7428\n",
      "Epoch 144/300\n",
      " - 8s - loss: 0.6673 - acc: 0.7426\n",
      "Epoch 145/300\n",
      " - 8s - loss: 0.6496 - acc: 0.7489\n",
      "Epoch 146/300\n",
      " - 8s - loss: 0.6450 - acc: 0.7510\n",
      "Epoch 147/300\n",
      " - 8s - loss: 0.6518 - acc: 0.7484\n",
      "Epoch 148/300\n",
      " - 8s - loss: 0.6544 - acc: 0.7498\n",
      "Epoch 149/300\n",
      " - 8s - loss: 0.6501 - acc: 0.7450\n",
      "Epoch 150/300\n",
      " - 8s - loss: 0.6409 - acc: 0.7540\n",
      "Epoch 151/300\n",
      " - 8s - loss: 0.6325 - acc: 0.7564\n",
      "Epoch 152/300\n",
      " - 8s - loss: 0.6264 - acc: 0.7567\n",
      "Epoch 153/300\n",
      " - 8s - loss: 0.6309 - acc: 0.7555\n",
      "Epoch 154/300\n",
      " - 8s - loss: 0.6413 - acc: 0.7546\n",
      "Epoch 155/300\n",
      " - 8s - loss: 0.6358 - acc: 0.7550\n",
      "Epoch 156/300\n",
      " - 8s - loss: 0.6280 - acc: 0.7562\n",
      "Epoch 157/300\n",
      " - 8s - loss: 0.6234 - acc: 0.7594\n",
      "Epoch 158/300\n",
      " - 8s - loss: 0.6295 - acc: 0.7613\n",
      "Epoch 159/300\n",
      " - 8s - loss: 0.6294 - acc: 0.7583\n",
      "Epoch 160/300\n",
      " - 8s - loss: 0.6416 - acc: 0.7527\n",
      "Epoch 161/300\n",
      " - 8s - loss: 0.6226 - acc: 0.7641\n",
      "Epoch 162/300\n",
      " - 8s - loss: 0.6260 - acc: 0.7602\n",
      "Epoch 163/300\n",
      " - 8s - loss: 0.6090 - acc: 0.7631\n",
      "Epoch 164/300\n",
      " - 8s - loss: 0.6122 - acc: 0.7670\n",
      "Epoch 165/300\n",
      " - 8s - loss: 0.6031 - acc: 0.7669\n",
      "Epoch 166/300\n",
      " - 8s - loss: 0.6313 - acc: 0.7563\n",
      "Epoch 167/300\n",
      " - 8s - loss: 0.6269 - acc: 0.7594\n",
      "Epoch 168/300\n",
      " - 8s - loss: 0.6249 - acc: 0.7616\n",
      "Epoch 169/300\n",
      " - 8s - loss: 0.6219 - acc: 0.7628\n",
      "Epoch 170/300\n",
      " - 8s - loss: 0.6171 - acc: 0.7648\n",
      "Epoch 171/300\n",
      " - 8s - loss: 0.6158 - acc: 0.7649\n",
      "Epoch 172/300\n",
      " - 8s - loss: 0.6020 - acc: 0.7692\n",
      "Epoch 173/300\n",
      " - 8s - loss: 0.6085 - acc: 0.7662\n",
      "Epoch 174/300\n",
      " - 8s - loss: 0.6038 - acc: 0.7677\n",
      "Epoch 175/300\n",
      " - 8s - loss: 0.6134 - acc: 0.7637\n",
      "Epoch 176/300\n",
      " - 8s - loss: 0.6037 - acc: 0.7677\n",
      "Epoch 177/300\n",
      " - 8s - loss: 0.6129 - acc: 0.7676\n",
      "Epoch 178/300\n",
      " - 8s - loss: 0.5976 - acc: 0.7705\n",
      "Epoch 179/300\n",
      " - 8s - loss: 0.6074 - acc: 0.7672\n",
      "Epoch 180/300\n",
      " - 8s - loss: 0.5940 - acc: 0.7719\n",
      "Epoch 181/300\n",
      " - 8s - loss: 0.5912 - acc: 0.7747\n",
      "Epoch 182/300\n",
      " - 8s - loss: 0.5789 - acc: 0.7763\n",
      "Epoch 183/300\n",
      " - 8s - loss: 0.5840 - acc: 0.7760\n",
      "Epoch 184/300\n",
      " - 8s - loss: 0.5899 - acc: 0.7753\n",
      "Epoch 185/300\n",
      " - 8s - loss: 0.5733 - acc: 0.7828\n",
      "Epoch 186/300\n",
      " - 8s - loss: 0.5793 - acc: 0.7755\n",
      "Epoch 187/300\n",
      " - 8s - loss: 0.5734 - acc: 0.7791\n",
      "Epoch 188/300\n",
      " - 8s - loss: 0.5733 - acc: 0.7801\n",
      "Epoch 189/300\n",
      " - 8s - loss: 0.5721 - acc: 0.7828\n",
      "Epoch 190/300\n",
      " - 8s - loss: 0.5660 - acc: 0.7821\n",
      "Epoch 191/300\n",
      " - 8s - loss: 0.5733 - acc: 0.7794\n",
      "Epoch 192/300\n",
      " - 8s - loss: 0.5678 - acc: 0.7799\n",
      "Epoch 193/300\n",
      " - 8s - loss: 0.5662 - acc: 0.7817\n",
      "Epoch 194/300\n",
      " - 8s - loss: 0.5618 - acc: 0.7848\n",
      "Epoch 195/300\n",
      " - 8s - loss: 0.5752 - acc: 0.7799\n",
      "Epoch 196/300\n",
      " - 8s - loss: 0.5619 - acc: 0.7824\n",
      "Epoch 197/300\n",
      " - 8s - loss: 0.5750 - acc: 0.7787\n",
      "Epoch 198/300\n",
      " - 8s - loss: 0.5599 - acc: 0.7887\n",
      "Epoch 199/300\n",
      " - 8s - loss: 0.5645 - acc: 0.7868\n",
      "Epoch 200/300\n",
      " - 8s - loss: 0.5780 - acc: 0.7819\n",
      "Epoch 201/300\n",
      " - 8s - loss: 0.5579 - acc: 0.7873\n",
      "Epoch 202/300\n",
      " - 8s - loss: 0.5552 - acc: 0.7890\n",
      "Epoch 203/300\n",
      " - 8s - loss: 0.5651 - acc: 0.7832\n",
      "Epoch 204/300\n",
      " - 8s - loss: 0.5582 - acc: 0.7874\n",
      "Epoch 205/300\n",
      " - 8s - loss: 0.5613 - acc: 0.7864\n",
      "Epoch 206/300\n",
      " - 8s - loss: 0.5556 - acc: 0.7886\n",
      "Epoch 207/300\n",
      " - 8s - loss: 0.5477 - acc: 0.7902\n",
      "Epoch 208/300\n",
      " - 8s - loss: 0.5435 - acc: 0.7912\n",
      "Epoch 209/300\n",
      " - 8s - loss: 0.5511 - acc: 0.7883\n",
      "Epoch 210/300\n",
      " - 8s - loss: 0.5562 - acc: 0.7896\n",
      "Epoch 211/300\n",
      " - 8s - loss: 0.5610 - acc: 0.7873\n",
      "Epoch 212/300\n",
      " - 8s - loss: 0.5484 - acc: 0.7909\n",
      "Epoch 213/300\n",
      " - 8s - loss: 0.5453 - acc: 0.7939\n",
      "Epoch 214/300\n",
      " - 8s - loss: 0.5485 - acc: 0.7925\n",
      "Epoch 215/300\n",
      " - 8s - loss: 0.5489 - acc: 0.7908\n",
      "Epoch 216/300\n",
      " - 8s - loss: 0.5543 - acc: 0.7885\n",
      "Epoch 217/300\n",
      " - 8s - loss: 0.5470 - acc: 0.7912\n",
      "Epoch 218/300\n",
      " - 8s - loss: 0.5383 - acc: 0.7941\n",
      "Epoch 219/300\n",
      " - 8s - loss: 0.5430 - acc: 0.7925\n",
      "Epoch 220/300\n",
      " - 8s - loss: 0.5421 - acc: 0.7935\n",
      "Epoch 221/300\n",
      " - 8s - loss: 0.5374 - acc: 0.7959\n",
      "Epoch 222/300\n",
      " - 8s - loss: 0.5270 - acc: 0.7998\n",
      "Epoch 223/300\n",
      " - 8s - loss: 0.5478 - acc: 0.7907\n",
      "Epoch 224/300\n",
      " - 8s - loss: 0.5365 - acc: 0.7954\n",
      "Epoch 225/300\n",
      " - 8s - loss: 0.5353 - acc: 0.7947\n",
      "Epoch 226/300\n",
      " - 8s - loss: 0.5352 - acc: 0.7954\n",
      "Epoch 227/300\n",
      " - 8s - loss: 0.5320 - acc: 0.7980\n",
      "Epoch 228/300\n",
      " - 8s - loss: 0.5409 - acc: 0.7947\n",
      "Epoch 229/300\n",
      " - 8s - loss: 0.5335 - acc: 0.7984\n",
      "Epoch 230/300\n",
      " - 8s - loss: 0.5328 - acc: 0.7983\n",
      "Epoch 231/300\n",
      " - 8s - loss: 0.5326 - acc: 0.7967\n",
      "Epoch 232/300\n",
      " - 8s - loss: 0.5469 - acc: 0.7906\n",
      "Epoch 233/300\n",
      " - 8s - loss: 0.5352 - acc: 0.7958\n",
      "Epoch 234/300\n",
      " - 8s - loss: 0.5172 - acc: 0.8022\n",
      "Epoch 235/300\n",
      " - 8s - loss: 0.5242 - acc: 0.7998\n",
      "Epoch 236/300\n",
      " - 8s - loss: 0.5216 - acc: 0.8009\n",
      "Epoch 237/300\n",
      " - 8s - loss: 0.5328 - acc: 0.7933\n",
      "Epoch 238/300\n",
      " - 8s - loss: 0.5253 - acc: 0.8005\n",
      "Epoch 239/300\n",
      " - 8s - loss: 0.5207 - acc: 0.8023\n",
      "Epoch 240/300\n",
      " - 8s - loss: 0.5249 - acc: 0.8023\n",
      "Epoch 241/300\n",
      " - 8s - loss: 0.5238 - acc: 0.7969\n",
      "Epoch 242/300\n",
      " - 8s - loss: 0.5202 - acc: 0.8031\n",
      "Epoch 243/300\n",
      " - 8s - loss: 0.5251 - acc: 0.7969\n",
      "Epoch 244/300\n",
      " - 8s - loss: 0.5285 - acc: 0.7998\n",
      "Epoch 245/300\n",
      " - 8s - loss: 0.5267 - acc: 0.8023\n",
      "Epoch 246/300\n",
      " - 8s - loss: 0.5222 - acc: 0.8010\n",
      "Epoch 247/300\n",
      " - 8s - loss: 0.5128 - acc: 0.8055\n",
      "Epoch 248/300\n",
      " - 8s - loss: 0.5256 - acc: 0.8005\n",
      "Epoch 249/300\n",
      " - 8s - loss: 0.5250 - acc: 0.8013\n",
      "Epoch 250/300\n",
      " - 8s - loss: 0.5247 - acc: 0.7985\n",
      "Epoch 251/300\n",
      " - 8s - loss: 0.5330 - acc: 0.7971\n",
      "Epoch 252/300\n",
      " - 8s - loss: 0.5172 - acc: 0.8051\n",
      "Epoch 253/300\n",
      " - 8s - loss: 0.5316 - acc: 0.7979\n",
      "Epoch 254/300\n",
      " - 8s - loss: 0.5341 - acc: 0.7985\n",
      "Epoch 255/300\n",
      " - 8s - loss: 0.5143 - acc: 0.8056\n",
      "Epoch 256/300\n",
      " - 8s - loss: 0.5184 - acc: 0.8037\n",
      "Epoch 257/300\n",
      " - 8s - loss: 0.5293 - acc: 0.8021\n",
      "Epoch 258/300\n",
      " - 8s - loss: 0.5253 - acc: 0.8003\n",
      "Epoch 259/300\n",
      " - 8s - loss: 0.5287 - acc: 0.7998\n",
      "Epoch 260/300\n",
      " - 8s - loss: 0.5205 - acc: 0.8022\n",
      "Epoch 261/300\n",
      " - 8s - loss: 0.5160 - acc: 0.8033\n",
      "Epoch 262/300\n",
      " - 8s - loss: 0.5108 - acc: 0.8085\n",
      "Epoch 263/300\n",
      " - 8s - loss: 0.5174 - acc: 0.8053\n",
      "Epoch 264/300\n",
      " - 8s - loss: 0.5144 - acc: 0.8026\n",
      "Epoch 265/300\n",
      " - 8s - loss: 0.5212 - acc: 0.8012\n",
      "Epoch 266/300\n",
      " - 8s - loss: 0.5145 - acc: 0.8054\n",
      "Epoch 267/300\n",
      " - 8s - loss: 0.5076 - acc: 0.8061\n",
      "Epoch 268/300\n",
      " - 8s - loss: 0.5104 - acc: 0.8064\n",
      "Epoch 269/300\n",
      " - 8s - loss: 0.5162 - acc: 0.8040\n",
      "Epoch 270/300\n",
      " - 8s - loss: 0.5236 - acc: 0.8045\n",
      "Epoch 271/300\n",
      " - 8s - loss: 0.5139 - acc: 0.8072\n",
      "Epoch 272/300\n",
      " - 8s - loss: 0.5245 - acc: 0.8005\n",
      "Epoch 273/300\n",
      " - 8s - loss: 0.5153 - acc: 0.8066\n",
      "Epoch 274/300\n",
      " - 8s - loss: 0.5153 - acc: 0.8071\n",
      "Epoch 275/300\n",
      " - 8s - loss: 0.5075 - acc: 0.8076\n",
      "Epoch 276/300\n",
      " - 8s - loss: 0.5205 - acc: 0.8035\n",
      "Epoch 277/300\n",
      " - 8s - loss: 0.5228 - acc: 0.8002\n",
      "Epoch 278/300\n",
      " - 8s - loss: 0.5196 - acc: 0.8038\n",
      "Epoch 279/300\n",
      " - 8s - loss: 0.5164 - acc: 0.8053\n",
      "Epoch 280/300\n",
      " - 8s - loss: 0.5136 - acc: 0.8042\n",
      "Epoch 281/300\n",
      " - 8s - loss: 0.5059 - acc: 0.8109\n",
      "Epoch 282/300\n",
      " - 8s - loss: 0.5065 - acc: 0.8104\n",
      "Epoch 283/300\n",
      " - 8s - loss: 0.5002 - acc: 0.8096\n",
      "Epoch 284/300\n",
      " - 8s - loss: 0.5173 - acc: 0.8039\n",
      "Epoch 285/300\n",
      " - 8s - loss: 0.5152 - acc: 0.8072\n",
      "Epoch 286/300\n",
      " - 8s - loss: 0.5053 - acc: 0.8098\n",
      "Epoch 287/300\n",
      " - 8s - loss: 0.5072 - acc: 0.8099\n",
      "Epoch 288/300\n",
      " - 8s - loss: 0.4922 - acc: 0.8137\n",
      "Epoch 289/300\n",
      " - 8s - loss: 0.4970 - acc: 0.8105\n",
      "Epoch 290/300\n",
      " - 8s - loss: 0.4956 - acc: 0.8125\n",
      "Epoch 291/300\n",
      " - 8s - loss: 0.5015 - acc: 0.8131\n",
      "Epoch 292/300\n",
      " - 8s - loss: 0.4999 - acc: 0.8077\n",
      "Epoch 293/300\n",
      " - 8s - loss: 0.4965 - acc: 0.8135\n",
      "Epoch 294/300\n",
      " - 8s - loss: 0.4928 - acc: 0.8133\n",
      "Epoch 295/300\n",
      " - 8s - loss: 0.4943 - acc: 0.8143\n",
      "Epoch 296/300\n",
      " - 8s - loss: 0.4894 - acc: 0.8198\n",
      "Epoch 297/300\n",
      " - 8s - loss: 0.4888 - acc: 0.8165\n",
      "Epoch 298/300\n",
      " - 8s - loss: 0.4949 - acc: 0.8130\n",
      "Epoch 299/300\n",
      " - 8s - loss: 0.4995 - acc: 0.8117\n",
      "Epoch 300/300\n",
      " - 8s - loss: 0.4855 - acc: 0.8152\n"
     ]
    }
   ],
   "source": [
    "history=model.fit(images, y_train_hot, epochs=300, verbose=2, batch_size=1024,\n",
    "                                    initial_epoch=0, shuffle=False)\n",
    "\n",
    "\n"
   ]
  },
  {
   "cell_type": "code",
   "execution_count": 49,
   "metadata": {
    "colab": {
     "autoexec": {
      "startup": false,
      "wait_interval": 0
     },
     "base_uri": "https://localhost:8080/",
     "height": 51
    },
    "colab_type": "code",
    "executionInfo": {
     "elapsed": 3241,
     "status": "ok",
     "timestamp": 1532851386558,
     "user": {
      "displayName": "Tushar Nema",
      "photoUrl": "https://lh3.googleusercontent.com/a/default-user=s128",
      "userId": "116547679340556707397"
     },
     "user_tz": -330
    },
    "id": "Di2wAO9e4VAw",
    "outputId": "8b69c5eb-49c3-47be-c44e-a394c4c31462"
   },
   "outputs": [
    {
     "name": "stdout",
     "output_type": "stream",
     "text": [
      "\n",
      "Accuracy: 58.03%\n"
     ]
    }
   ],
   "source": [
    "scores = model.evaluate(images_test, y_test_hot, verbose=2)\n",
    "print(\"\\nAccuracy: %.2f%%\" % (scores[1]*100))"
   ]
  },
  {
   "cell_type": "code",
   "execution_count": 51,
   "metadata": {
    "colab": {
     "autoexec": {
      "startup": false,
      "wait_interval": 0
     },
     "base_uri": "https://localhost:8080/",
     "height": 34
    },
    "colab_type": "code",
    "executionInfo": {
     "elapsed": 4871,
     "status": "ok",
     "timestamp": 1532851582164,
     "user": {
      "displayName": "Tushar Nema",
      "photoUrl": "https://lh3.googleusercontent.com/a/default-user=s128",
      "userId": "116547679340556707397"
     },
     "user_tz": -330
    },
    "id": "Se-jjRRdD-uZ",
    "outputId": "6aa4d7e6-7b7a-44c0-fe11-2fe9157cb33a"
   },
   "outputs": [
    {
     "name": "stdout",
     "output_type": "stream",
     "text": [
      "Saved model to disk\n"
     ]
    }
   ],
   "source": [
    "# serialize model to JSON\n",
    "model_json = model.to_json()\n",
    "with open(\"drive/Datasets/Fac_exp.json\", \"w\") as json_file:\n",
    "    json_file.write(model_json)\n",
    "# serialize weights to HDF5\n",
    "model.save_weights(\"drive/Datasets/Fac_exp.h5\")\n",
    "print(\"Saved model to disk\")"
   ]
  },
  {
   "cell_type": "code",
   "execution_count": 53,
   "metadata": {
    "colab": {
     "autoexec": {
      "startup": false,
      "wait_interval": 0
     },
     "base_uri": "https://localhost:8080/",
     "height": 349
    },
    "colab_type": "code",
    "executionInfo": {
     "elapsed": 1467,
     "status": "ok",
     "timestamp": 1532851730048,
     "user": {
      "displayName": "Tushar Nema",
      "photoUrl": "https://lh3.googleusercontent.com/a/default-user=s128",
      "userId": "116547679340556707397"
     },
     "user_tz": -330
    },
    "id": "VB-o4hIUEdLm",
    "outputId": "44ab9d22-d4a5-4da1-8a4d-9d5a407566db"
   },
   "outputs": [
    {
     "data": {
      "image/png": "[encoded data removed]",
      "text/plain": [
       "<matplotlib.figure.Figure at 0x7f4030b9ad30>"
      ]
     },
     "metadata": {
      "tags": []
     },
     "output_type": "display_data"
    }
   ],
   "source": [
    "# summarize history for accuracy\n",
    "ynum=np.linspace(0,1,5)\n",
    "plt.figure(figsize=(15,5))\n",
    "plt.plot(history.history['acc'])\n",
    "#plt.plot(history.history['val_acc'])\n",
    "plt.title('model accuracy')\n",
    "plt.ylabel('accuracy')\n",
    "plt.xlabel('epoch')\n",
    "plt.yticks(ynum) \n",
    "\n",
    "plt.legend(['train', 'test'], loc='upper left')\n",
    "plt.show()"
   ]
  },
  {
   "cell_type": "code",
   "execution_count": 54,
   "metadata": {
    "colab": {
     "autoexec": {
      "startup": false,
      "wait_interval": 0
     },
     "base_uri": "https://localhost:8080/",
     "height": 349
    },
    "colab_type": "code",
    "executionInfo": {
     "elapsed": 1267,
     "status": "ok",
     "timestamp": 1532851755094,
     "user": {
      "displayName": "Tushar Nema",
      "photoUrl": "https://lh3.googleusercontent.com/a/default-user=s128",
      "userId": "116547679340556707397"
     },
     "user_tz": -330
    },
    "id": "D1RSK14_FPm0",
    "outputId": "85c8cbf9-3e7c-4776-852d-6479ae7d4ef7"
   },
   "outputs": [
    {
     "data": {
      "image/png": "[encoded data removed]",
      "text/plain": [
       "<matplotlib.figure.Figure at 0x7f4030ba7a58>"
      ]
     },
     "metadata": {
      "tags": []
     },
     "output_type": "display_data"
    }
   ],
   "source": [
    "# summarize history for loss\n",
    "plt.figure(figsize=(15,5))\n",
    "plt.plot(history.history['loss'])\n",
    "#plt.plot(history.history['val_loss'])\n",
    "plt.title('model loss')\n",
    "plt.ylabel('loss')\n",
    "plt.xlabel('epoch')\n",
    "plt.legend(['train', 'test'], loc='upper left')\n",
    "plt.show()"
   ]
  },
  {
   "cell_type": "code",
   "execution_count": null,
   "metadata": {
    "colab": {
     "autoexec": {
      "startup": false,
      "wait_interval": 0
     }
    },
    "colab_type": "code",
    "id": "drHl4g96FZKC"
   },
   "outputs": [],
   "source": []
  }
 ],
 "metadata": {
  "accelerator": "GPU",
  "colab": {
   "default_view": {},
   "name": "Untitled3.ipynb",
   "provenance": [],
   "version": "0.3.2",
   "views": {}
  },
  "kernelspec": {
   "display_name": "Python 3",
   "language": "python",
   "name": "python3"
  },
  "language_info": {
   "codemirror_mode": {
    "name": "ipython",
    "version": 3
   },
   "file_extension": ".py",
   "mimetype": "text/x-python",
   "name": "python",
   "nbconvert_exporter": "python",
   "pygments_lexer": "ipython3",
   "version": "3.6.5"
  }
 },
 "nbformat": 4,
 "nbformat_minor": 2
}
