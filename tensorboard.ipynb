{
 "cells": [
  {
   "cell_type": "code",
   "execution_count": 1,
   "metadata": {},
   "outputs": [
    {
     "name": "stderr",
     "output_type": "stream",
     "text": [
      "/anaconda3/lib/python3.6/site-packages/h5py/__init__.py:36: FutureWarning: Conversion of the second argument of issubdtype from `float` to `np.floating` is deprecated. In future, it will be treated as `np.float64 == np.dtype(float).type`.\n",
      "  from ._conv import register_converters as _register_converters\n",
      "Using TensorFlow backend.\n"
     ]
    }
   ],
   "source": [
    "import pandas as pd\n",
    "import keras\n",
    "from keras.models import Sequential\n",
    "from keras.layers import *"
   ]
  },
  {
   "cell_type": "code",
   "execution_count": 4,
   "metadata": {},
   "outputs": [],
   "source": [
    "training_data_df = pd.read_csv(\"/Users/tusharnema/Downloads/Ex_Files_Building_Deep_Learning_Apps/Exercise Files/06/sales_data_training_scaled.csv\")"
   ]
  },
  {
   "cell_type": "code",
   "execution_count": 6,
   "metadata": {},
   "outputs": [
    {
     "data": {
      "text/html": [
       "<div>\n",
       "<style scoped>\n",
       "    .dataframe tbody tr th:only-of-type {\n",
       "        vertical-align: middle;\n",
       "    }\n",
       "\n",
       "    .dataframe tbody tr th {\n",
       "        vertical-align: top;\n",
       "    }\n",
       "\n",
       "    .dataframe thead th {\n",
       "        text-align: right;\n",
       "    }\n",
       "</style>\n",
       "<table border=\"1\" class=\"dataframe\">\n",
       "  <thead>\n",
       "    <tr style=\"text-align: right;\">\n",
       "      <th></th>\n",
       "      <th>critic_rating</th>\n",
       "      <th>is_action</th>\n",
       "      <th>is_exclusive_to_us</th>\n",
       "      <th>is_portable</th>\n",
       "      <th>is_role_playing</th>\n",
       "      <th>is_sequel</th>\n",
       "      <th>is_sports</th>\n",
       "      <th>suitable_for_kids</th>\n",
       "      <th>total_earnings</th>\n",
       "      <th>unit_price</th>\n",
       "    </tr>\n",
       "  </thead>\n",
       "  <tbody>\n",
       "    <tr>\n",
       "      <th>0</th>\n",
       "      <td>0.500000</td>\n",
       "      <td>1.0</td>\n",
       "      <td>0.0</td>\n",
       "      <td>1.0</td>\n",
       "      <td>0.0</td>\n",
       "      <td>1.0</td>\n",
       "      <td>0.0</td>\n",
       "      <td>0.0</td>\n",
       "      <td>0.374714</td>\n",
       "      <td>1.0</td>\n",
       "    </tr>\n",
       "    <tr>\n",
       "      <th>1</th>\n",
       "      <td>0.833333</td>\n",
       "      <td>0.0</td>\n",
       "      <td>0.0</td>\n",
       "      <td>0.0</td>\n",
       "      <td>0.0</td>\n",
       "      <td>1.0</td>\n",
       "      <td>1.0</td>\n",
       "      <td>0.0</td>\n",
       "      <td>0.192425</td>\n",
       "      <td>0.5</td>\n",
       "    </tr>\n",
       "    <tr>\n",
       "      <th>2</th>\n",
       "      <td>0.333333</td>\n",
       "      <td>0.0</td>\n",
       "      <td>0.0</td>\n",
       "      <td>0.0</td>\n",
       "      <td>0.0</td>\n",
       "      <td>1.0</td>\n",
       "      <td>1.0</td>\n",
       "      <td>0.0</td>\n",
       "      <td>0.114852</td>\n",
       "      <td>0.5</td>\n",
       "    </tr>\n",
       "    <tr>\n",
       "      <th>3</th>\n",
       "      <td>0.833333</td>\n",
       "      <td>1.0</td>\n",
       "      <td>0.0</td>\n",
       "      <td>0.0</td>\n",
       "      <td>0.0</td>\n",
       "      <td>0.0</td>\n",
       "      <td>0.0</td>\n",
       "      <td>1.0</td>\n",
       "      <td>0.142452</td>\n",
       "      <td>0.0</td>\n",
       "    </tr>\n",
       "    <tr>\n",
       "      <th>4</th>\n",
       "      <td>0.666667</td>\n",
       "      <td>1.0</td>\n",
       "      <td>0.0</td>\n",
       "      <td>1.0</td>\n",
       "      <td>0.0</td>\n",
       "      <td>1.0</td>\n",
       "      <td>0.0</td>\n",
       "      <td>1.0</td>\n",
       "      <td>0.480682</td>\n",
       "      <td>1.0</td>\n",
       "    </tr>\n",
       "  </tbody>\n",
       "</table>\n",
       "</div>"
      ],
      "text/plain": [
       "   critic_rating  is_action  is_exclusive_to_us  is_portable  is_role_playing  \\\n",
       "0       0.500000        1.0                 0.0          1.0              0.0   \n",
       "1       0.833333        0.0                 0.0          0.0              0.0   \n",
       "2       0.333333        0.0                 0.0          0.0              0.0   \n",
       "3       0.833333        1.0                 0.0          0.0              0.0   \n",
       "4       0.666667        1.0                 0.0          1.0              0.0   \n",
       "\n",
       "   is_sequel  is_sports  suitable_for_kids  total_earnings  unit_price  \n",
       "0        1.0        0.0                0.0        0.374714         1.0  \n",
       "1        1.0        1.0                0.0        0.192425         0.5  \n",
       "2        1.0        1.0                0.0        0.114852         0.5  \n",
       "3        0.0        0.0                1.0        0.142452         0.0  \n",
       "4        1.0        0.0                1.0        0.480682         1.0  "
      ]
     },
     "execution_count": 6,
     "metadata": {},
     "output_type": "execute_result"
    }
   ],
   "source": [
    "training_data_df.head()"
   ]
  },
  {
   "cell_type": "code",
   "execution_count": 7,
   "metadata": {},
   "outputs": [],
   "source": [
    "X = training_data_df.drop('total_earnings', axis=1).values\n",
    "Y = training_data_df[['total_earnings']].values"
   ]
  },
  {
   "cell_type": "code",
   "execution_count": 10,
   "metadata": {},
   "outputs": [
    {
     "data": {
      "text/plain": [
       "(1000, 9)"
      ]
     },
     "execution_count": 10,
     "metadata": {},
     "output_type": "execute_result"
    }
   ],
   "source": [
    "X.shape"
   ]
  },
  {
   "cell_type": "code",
   "execution_count": 11,
   "metadata": {},
   "outputs": [],
   "source": [
    "# Define the model\n",
    "model = Sequential()\n",
    "model.add(Dense(50, input_dim=9, activation='relu', name='layer_1'))\n",
    "model.add(Dense(100, activation='relu', name='layer_2'))\n",
    "model.add(Dense(50, activation='relu', name='layer_3'))\n",
    "model.add(Dense(1, activation='linear', name='output_layer'))\n",
    "model.compile(loss='mean_squared_error', optimizer='adam')"
   ]
  },
  {
   "cell_type": "code",
   "execution_count": 12,
   "metadata": {},
   "outputs": [],
   "source": [
    "# Create a TensorBoard logger\n",
    "logger = keras.callbacks.TensorBoard(\n",
    "    log_dir='logs',\n",
    "    write_graph=True,\n",
    "    histogram_freq=5\n",
    ")"
   ]
  },
  {
   "cell_type": "code",
   "execution_count": 15,
   "metadata": {},
   "outputs": [
    {
     "name": "stdout",
     "output_type": "stream",
     "text": [
      "Train on 800 samples, validate on 200 samples\n",
      "Epoch 1/50\n",
      " - 0s - loss: 0.0021 - val_loss: 0.0014\n",
      "Epoch 2/50\n",
      " - 0s - loss: 0.0010 - val_loss: 7.8234e-04\n",
      "Epoch 3/50\n",
      " - 0s - loss: 5.6463e-04 - val_loss: 7.0258e-04\n",
      "Epoch 4/50\n",
      " - 0s - loss: 3.3374e-04 - val_loss: 3.3982e-04\n",
      "Epoch 5/50\n",
      " - 0s - loss: 2.2731e-04 - val_loss: 2.6194e-04\n",
      "Epoch 6/50\n",
      " - 0s - loss: 1.8719e-04 - val_loss: 2.3296e-04\n",
      "Epoch 7/50\n",
      " - 0s - loss: 1.3453e-04 - val_loss: 1.6484e-04\n",
      "Epoch 8/50\n",
      " - 0s - loss: 1.1092e-04 - val_loss: 1.3570e-04\n",
      "Epoch 9/50\n",
      " - 0s - loss: 9.1892e-05 - val_loss: 1.2913e-04\n",
      "Epoch 10/50\n",
      " - 0s - loss: 8.3329e-05 - val_loss: 1.4179e-04\n",
      "Epoch 11/50\n",
      " - 0s - loss: 8.8882e-05 - val_loss: 1.4066e-04\n",
      "Epoch 12/50\n",
      " - 0s - loss: 7.2124e-05 - val_loss: 1.1777e-04\n",
      "Epoch 13/50\n",
      " - 0s - loss: 5.3231e-05 - val_loss: 9.9369e-05\n",
      "Epoch 14/50\n",
      " - 0s - loss: 5.0220e-05 - val_loss: 9.3700e-05\n",
      "Epoch 15/50\n",
      " - 0s - loss: 4.4630e-05 - val_loss: 9.7643e-05\n",
      "Epoch 16/50\n",
      " - 0s - loss: 4.3056e-05 - val_loss: 1.1809e-04\n",
      "Epoch 17/50\n",
      " - 0s - loss: 4.4527e-05 - val_loss: 9.5251e-05\n",
      "Epoch 18/50\n",
      " - 0s - loss: 4.1026e-05 - val_loss: 1.0550e-04\n",
      "Epoch 19/50\n",
      " - 0s - loss: 3.6018e-05 - val_loss: 9.2147e-05\n",
      "Epoch 20/50\n",
      " - 0s - loss: 3.9478e-05 - val_loss: 1.1454e-04\n",
      "Epoch 21/50\n",
      " - 0s - loss: 3.8055e-05 - val_loss: 8.2823e-05\n",
      "Epoch 22/50\n",
      " - 0s - loss: 3.6407e-05 - val_loss: 1.2572e-04\n",
      "Epoch 23/50\n",
      " - 0s - loss: 5.7012e-05 - val_loss: 9.8549e-05\n",
      "Epoch 24/50\n",
      " - 0s - loss: 3.2553e-05 - val_loss: 8.8966e-05\n",
      "Epoch 25/50\n",
      " - 0s - loss: 4.0059e-05 - val_loss: 8.0405e-05\n",
      "Epoch 26/50\n",
      " - 0s - loss: 4.8318e-05 - val_loss: 9.9112e-05\n",
      "Epoch 27/50\n",
      " - 0s - loss: 4.0416e-05 - val_loss: 7.8106e-05\n",
      "Epoch 28/50\n",
      " - 0s - loss: 2.9758e-05 - val_loss: 8.4119e-05\n",
      "Epoch 29/50\n",
      " - 0s - loss: 3.1366e-05 - val_loss: 9.0437e-05\n",
      "Epoch 30/50\n",
      " - 0s - loss: 3.4708e-05 - val_loss: 1.1578e-04\n",
      "Epoch 31/50\n",
      " - 0s - loss: 3.0834e-05 - val_loss: 7.4989e-05\n",
      "Epoch 32/50\n",
      " - 0s - loss: 3.0525e-05 - val_loss: 7.3800e-05\n",
      "Epoch 33/50\n",
      " - 0s - loss: 3.4267e-05 - val_loss: 8.5226e-05\n",
      "Epoch 34/50\n",
      " - 0s - loss: 2.2557e-05 - val_loss: 6.2939e-05\n",
      "Epoch 35/50\n",
      " - 0s - loss: 2.3474e-05 - val_loss: 8.5482e-05\n",
      "Epoch 36/50\n",
      " - 0s - loss: 2.4365e-05 - val_loss: 9.3916e-05\n",
      "Epoch 37/50\n",
      " - 0s - loss: 2.3812e-05 - val_loss: 7.9492e-05\n",
      "Epoch 38/50\n",
      " - 0s - loss: 1.9845e-05 - val_loss: 6.9335e-05\n",
      "Epoch 39/50\n",
      " - 0s - loss: 1.9115e-05 - val_loss: 7.1914e-05\n",
      "Epoch 40/50\n",
      " - 0s - loss: 1.9087e-05 - val_loss: 6.4480e-05\n",
      "Epoch 41/50\n",
      " - 0s - loss: 2.1536e-05 - val_loss: 6.7154e-05\n",
      "Epoch 42/50\n",
      " - 0s - loss: 1.6743e-05 - val_loss: 6.9409e-05\n",
      "Epoch 43/50\n",
      " - 0s - loss: 1.9268e-05 - val_loss: 7.2989e-05\n",
      "Epoch 44/50\n",
      " - 0s - loss: 2.7610e-05 - val_loss: 6.6046e-05\n",
      "Epoch 45/50\n",
      " - 0s - loss: 2.8527e-05 - val_loss: 7.3843e-05\n",
      "Epoch 46/50\n",
      " - 0s - loss: 3.8177e-05 - val_loss: 7.0579e-05\n",
      "Epoch 47/50\n",
      " - 0s - loss: 3.5135e-05 - val_loss: 6.8738e-05\n",
      "Epoch 48/50\n",
      " - 0s - loss: 3.4036e-05 - val_loss: 7.8821e-05\n",
      "Epoch 49/50\n",
      " - 0s - loss: 2.0227e-05 - val_loss: 9.4834e-05\n",
      "Epoch 50/50\n",
      " - 0s - loss: 2.6838e-05 - val_loss: 7.5037e-05\n"
     ]
    },
    {
     "data": {
      "text/plain": [
       "<keras.callbacks.History at 0x32618df28>"
      ]
     },
     "execution_count": 15,
     "metadata": {},
     "output_type": "execute_result"
    }
   ],
   "source": [
    "# Train the model\n",
    "model.fit(\n",
    "    X,\n",
    "    Y,\n",
    "    epochs=50,\n",
    "    shuffle=True,\n",
    "    verbose=2,\n",
    "    callbacks=[logger],\n",
    "    validation_split=0.2\n",
    ")\n"
   ]
  },
  {
   "cell_type": "code",
   "execution_count": 16,
   "metadata": {},
   "outputs": [],
   "source": [
    "# Load the separate test data set\n",
    "test_data_df = pd.read_csv(\"/Users/tusharnema/Downloads/Ex_Files_Building_Deep_Learning_Apps/Exercise Files/06/sales_data_test_scaled.csv\")"
   ]
  },
  {
   "cell_type": "code",
   "execution_count": 17,
   "metadata": {},
   "outputs": [],
   "source": [
    "\n",
    "X_test = test_data_df.drop('total_earnings', axis=1).values\n",
    "Y_test = test_data_df[['total_earnings']].values"
   ]
  },
  {
   "cell_type": "code",
   "execution_count": 18,
   "metadata": {},
   "outputs": [
    {
     "name": "stdout",
     "output_type": "stream",
     "text": [
      "The mean squared error (MSE) for the test data set is: 9.558418576489203e-05\n"
     ]
    }
   ],
   "source": [
    "test_error_rate = model.evaluate(X_test, Y_test, verbose=0)\n",
    "print(\"The mean squared error (MSE) for the test data set is: {}\".format(test_error_rate))"
   ]
  },
  {
   "cell_type": "code",
   "execution_count": 19,
   "metadata": {},
   "outputs": [],
   "source": [
    "# $tensorboard --logdir=logs                  --to check tensorboard in terminal"
   ]
  },
  {
   "cell_type": "code",
   "execution_count": null,
   "metadata": {},
   "outputs": [],
   "source": []
  }
 ],
 "metadata": {
  "kernelspec": {
   "display_name": "Python 3",
   "language": "python",
   "name": "python3"
  },
  "language_info": {
   "codemirror_mode": {
    "name": "ipython",
    "version": 3
   },
   "file_extension": ".py",
   "mimetype": "text/x-python",
   "name": "python",
   "nbconvert_exporter": "python",
   "pygments_lexer": "ipython3",
   "version": "3.6.5"
  }
 },
 "nbformat": 4,
 "nbformat_minor": 2
}
