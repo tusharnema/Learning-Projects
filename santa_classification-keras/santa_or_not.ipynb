{
  "nbformat": 4,
  "nbformat_minor": 0,
  "metadata": {
    "colab": {
      "name": "Untitled0.ipynb",
      "version": "0.3.2",
      "provenance": []
    },
    "kernelspec": {
      "name": "python3",
      "display_name": "Python 3"
    },
    "accelerator": "GPU"
  },
  "cells": [
    {
      "metadata": {
        "id": "drUu28eZfOTj",
        "colab_type": "code",
        "colab": {
          "base_uri": "https://localhost:8080/",
          "height": 194
        },
        "outputId": "f430cebb-193a-460c-e74d-a0e67c87c87d"
      },
      "cell_type": "code",
      "source": [
        "!apt-get install -y -qq software-properties-common python-software-properties module-init-tools\n",
        "!add-apt-repository -y ppa:alessandro-strada/ppa 2>&1 > /dev/null\n",
        "!apt-get update -qq 2>&1 > /dev/null\n",
        "!apt-get -y install -qq google-drive-ocamlfuse fuse\n",
        "from google.colab import auth\n",
        "auth.authenticate_user()\n",
        "from oauth2client.client import GoogleCredentials\n",
        "creds = GoogleCredentials.get_application_default()\n",
        "import getpass\n",
        "!google-drive-ocamlfuse -headless -id={creds.client_id} -secret={creds.client_secret} < /dev/null 2>&1 | grep URL\n",
        "vcode = getpass.getpass()\n",
        "!echo {vcode} | google-drive-ocamlfuse -headless -id={creds.client_id} -secret={creds.client_secret}"
      ],
      "execution_count": 1,
      "outputs": [
        {
          "output_type": "stream",
          "text": [
            "Please, open the following URL in a web browser: https://accounts.google.com/o/oauth2/auth?client_id=32555940559.apps.googleusercontent.com&redirect_uri=urn%3Aietf%3Awg%3Aoauth%3A2.0%3Aoob&scope=https%3A%2F%2Fwww.googleapis.com%2Fauth%2Fdrive&response_type=code&access_type=offline&approval_prompt=force\r\n",
            "··········\n",
            "Please, open the following URL in a web browser: https://accounts.google.com/o/oauth2/auth?client_id=32555940559.apps.googleusercontent.com&redirect_uri=urn%3Aietf%3Awg%3Aoauth%3A2.0%3Aoob&scope=https%3A%2F%2Fwww.googleapis.com%2Fauth%2Fdrive&response_type=code&access_type=offline&approval_prompt=force\n",
            "Please enter the verification code: Access token retrieved correctly.\n"
          ],
          "name": "stdout"
        }
      ]
    },
    {
      "metadata": {
        "id": "STnaKn-wfoxP",
        "colab_type": "code",
        "colab": {}
      },
      "cell_type": "code",
      "source": [
        "!mkdir -p drive\n",
        "!google-drive-ocamlfuse drive"
      ],
      "execution_count": 0,
      "outputs": []
    },
    {
      "metadata": {
        "id": "5hsejQkqgIW0",
        "colab_type": "code",
        "colab": {
          "base_uri": "https://localhost:8080/",
          "height": 51
        },
        "outputId": "23b388b2-b09c-49fc-e49c-9d066b7bc491"
      },
      "cell_type": "code",
      "source": [
        "print('Files in Drive:')\n",
        "!ls drive/Datasets/Image-classification/"
      ],
      "execution_count": 3,
      "outputs": [
        {
          "output_type": "stream",
          "text": [
            "Files in Drive:\n",
            "drive  not_santa  santa\n"
          ],
          "name": "stdout"
        }
      ]
    },
    {
      "metadata": {
        "id": "7HNaN6z4gTUl",
        "colab_type": "code",
        "colab": {
          "base_uri": "https://localhost:8080/",
          "height": 34
        },
        "outputId": "db50c733-5fba-489a-955f-3d6929268221"
      },
      "cell_type": "code",
      "source": [
        "# import the necessary packages\n",
        "from keras.models import Sequential\n",
        "from keras.layers.convolutional import Conv2D\n",
        "from keras.layers.convolutional import MaxPooling2D\n",
        "from keras.layers.core import Activation\n",
        "from keras.layers.core import Flatten\n",
        "from keras.layers.core import Dense\n",
        "from keras import backend as K"
      ],
      "execution_count": 4,
      "outputs": [
        {
          "output_type": "stream",
          "text": [
            "Using TensorFlow backend.\n"
          ],
          "name": "stderr"
        }
      ]
    },
    {
      "metadata": {
        "id": "j4aQFX7UgpXC",
        "colab_type": "code",
        "colab": {}
      },
      "cell_type": "code",
      "source": [
        "class LeNet:\n",
        "\t@staticmethod\n",
        "\tdef build(width, height, depth, classes):\n",
        "\t\t# initialize the model\n",
        "\t\tmodel = Sequential()\n",
        "\t\tinputShape = (height, width, depth)\n",
        "\n",
        "\t\t# if we are using \"channels first\", update the input shape\n",
        "\t\tif K.image_data_format() == \"channels_first\":\n",
        "\t\t\tinputShape = (depth, height, width)\n",
        "\n",
        "\t\t# first set of CONV => RELU => POOL layers\n",
        "\t\tmodel.add(Conv2D(20, (5, 5), padding=\"same\",\n",
        "\t\t\tinput_shape=inputShape))\n",
        "\t\tmodel.add(Activation(\"relu\"))\n",
        "\t\tmodel.add(MaxPooling2D(pool_size=(2, 2), strides=(2, 2)))\n",
        "\n",
        "\t\t# second set of CONV => RELU => POOL layers\n",
        "\t\tmodel.add(Conv2D(50, (5, 5), padding=\"same\"))\n",
        "\t\tmodel.add(Activation(\"relu\"))\n",
        "\t\tmodel.add(MaxPooling2D(pool_size=(2, 2), strides=(2, 2)))\n",
        "\n",
        "\t\t# first (and only) set of FC => RELU layers\n",
        "\t\tmodel.add(Flatten())\n",
        "\t\tmodel.add(Dense(500))\n",
        "\t\tmodel.add(Activation(\"relu\"))\n",
        "\n",
        "\t\t# softmax classifier\n",
        "\t\tmodel.add(Dense(classes))\n",
        "\t\tmodel.add(Activation(\"softmax\"))\n",
        "\n",
        "\t\t# return the constructed network architecture\n",
        "\t\treturn model"
      ],
      "execution_count": 0,
      "outputs": []
    },
    {
      "metadata": {
        "id": "79Q_Ji3zhmT3",
        "colab_type": "code",
        "colab": {}
      },
      "cell_type": "code",
      "source": [
        "# import the necessary packages\n",
        "from keras.preprocessing.image import ImageDataGenerator\n",
        "from keras.optimizers import Adam\n",
        "from sklearn.model_selection import train_test_split\n",
        "from keras.preprocessing.image import img_to_array\n",
        "from keras.utils import to_categorical\n",
        "import matplotlib.pyplot as plt\n",
        "import numpy as np\n",
        "import random\n",
        "import cv2\n",
        "import os"
      ],
      "execution_count": 0,
      "outputs": []
    },
    {
      "metadata": {
        "id": "9K6RvXGS6qYn",
        "colab_type": "code",
        "colab": {}
      },
      "cell_type": "code",
      "source": [
        "santa_label=np.array([1])\n",
        "not_santa_label=np.array([0])\n",
        "images=[]\n",
        "label =[]"
      ],
      "execution_count": 0,
      "outputs": []
    },
    {
      "metadata": {
        "id": "WN7kwe14joKN",
        "colab_type": "code",
        "colab": {}
      },
      "cell_type": "code",
      "source": [
        "def load_images_from_folder(folder,b,images,labels):\n",
        "    \n",
        "    \n",
        "    for filename in os.listdir(folder):\n",
        "        img = cv2.imread(os.path.join(folder,filename))\n",
        "        img = cv2.resize(img, (112, 112))\n",
        "        img = img_to_array(img)\n",
        "        \n",
        "        if img is not None:\n",
        "            #images.append(img)\n",
        "            #images.append([1])\n",
        "            \n",
        "            labels.append(b)\n",
        "            \n",
        "            \n",
        "            images.append(img)\n",
        "    #print(img[0].shape,type(img))\n",
        "    \n"
      ],
      "execution_count": 0,
      "outputs": []
    },
    {
      "metadata": {
        "id": "c1j6m6bRj6Xo",
        "colab_type": "code",
        "colab": {}
      },
      "cell_type": "code",
      "source": [
        "load_images_from_folder(\"drive/Datasets/Image-classification/santa\",santa_label,images,label)"
      ],
      "execution_count": 0,
      "outputs": []
    },
    {
      "metadata": {
        "id": "7Kxyu8z5oo0k",
        "colab_type": "code",
        "colab": {
          "base_uri": "https://localhost:8080/",
          "height": 34
        },
        "outputId": "59a878de-a20d-4b8f-a92c-5a7adb7f6e8f"
      },
      "cell_type": "code",
      "source": [
        "len(images)"
      ],
      "execution_count": 121,
      "outputs": [
        {
          "output_type": "execute_result",
          "data": {
            "text/plain": [
              "922"
            ]
          },
          "metadata": {
            "tags": []
          },
          "execution_count": 121
        }
      ]
    },
    {
      "metadata": {
        "id": "STribJpenxzD",
        "colab_type": "code",
        "colab": {
          "base_uri": "https://localhost:8080/",
          "height": 34
        },
        "outputId": "cbae8a4e-b721-4409-fef5-bb06188da58c"
      },
      "cell_type": "code",
      "source": [
        "len(label)"
      ],
      "execution_count": 122,
      "outputs": [
        {
          "output_type": "execute_result",
          "data": {
            "text/plain": [
              "922"
            ]
          },
          "metadata": {
            "tags": []
          },
          "execution_count": 122
        }
      ]
    },
    {
      "metadata": {
        "id": "wimKLtEm2HlG",
        "colab_type": "code",
        "colab": {}
      },
      "cell_type": "code",
      "source": [
        ""
      ],
      "execution_count": 0,
      "outputs": []
    },
    {
      "metadata": {
        "id": "fiL0Dhh5rkQc",
        "colab_type": "code",
        "colab": {}
      },
      "cell_type": "code",
      "source": [
        "load_images_from_folder(\"drive/Datasets/Image-classification/not_santa\",not_santa_label,images,label)"
      ],
      "execution_count": 0,
      "outputs": []
    },
    {
      "metadata": {
        "id": "KmsVq2CDqd5y",
        "colab_type": "code",
        "colab": {
          "base_uri": "https://localhost:8080/",
          "height": 51
        },
        "outputId": "5b0d0d15-8341-4e04-f5df-3cd9aafc2544"
      },
      "cell_type": "code",
      "source": [
        "print(len(label))\n",
        "print(len(images))"
      ],
      "execution_count": 123,
      "outputs": [
        {
          "output_type": "stream",
          "text": [
            "922\n",
            "922\n"
          ],
          "name": "stdout"
        }
      ]
    },
    {
      "metadata": {
        "id": "YJrQ9j6_udYr",
        "colab_type": "code",
        "colab": {}
      },
      "cell_type": "code",
      "source": [
        "train_img=np.array(images)\n",
        "label_img = np.array(label)"
      ],
      "execution_count": 0,
      "outputs": []
    },
    {
      "metadata": {
        "id": "_DqUuGD8wFl1",
        "colab_type": "code",
        "colab": {
          "base_uri": "https://localhost:8080/",
          "height": 34
        },
        "outputId": "6ebde930-3503-4c33-a303-157f75a6b6a4"
      },
      "cell_type": "code",
      "source": [
        "train_img.shape"
      ],
      "execution_count": 125,
      "outputs": [
        {
          "output_type": "execute_result",
          "data": {
            "text/plain": [
              "(922, 112, 112, 3)"
            ]
          },
          "metadata": {
            "tags": []
          },
          "execution_count": 125
        }
      ]
    },
    {
      "metadata": {
        "id": "1DGue3irggs_",
        "colab_type": "code",
        "colab": {
          "base_uri": "https://localhost:8080/",
          "height": 34
        },
        "outputId": "a4c558d9-2d02-402d-bcea-61eb36fa742f"
      },
      "cell_type": "code",
      "source": [
        "label_img.shape"
      ],
      "execution_count": 126,
      "outputs": [
        {
          "output_type": "execute_result",
          "data": {
            "text/plain": [
              "(922, 1)"
            ]
          },
          "metadata": {
            "tags": []
          },
          "execution_count": 126
        }
      ]
    },
    {
      "metadata": {
        "id": "R-pw7zNZwH3Z",
        "colab_type": "code",
        "colab": {
          "base_uri": "https://localhost:8080/",
          "height": 350
        },
        "outputId": "192ffbce-611e-4c15-e99d-0da1206459a6"
      },
      "cell_type": "code",
      "source": [
        "plt.imshow(train_img[40,:,:,:])\n",
        "plt.show()"
      ],
      "execution_count": 129,
      "outputs": [
        {
          "output_type": "display_data",
          "data": {
            "image/png": "[encoded data removed]",
            "text/plain": [
              "<matplotlib.figure.Figure at 0x7fabf0a934a8>"
            ]
          },
          "metadata": {
            "tags": []
          }
        }
      ]
    },
    {
      "metadata": {
        "id": "x6BMZ_-_gjBt",
        "colab_type": "code",
        "colab": {}
      },
      "cell_type": "code",
      "source": [
        "data = train_img[:,:,:,:]/ 255.0"
      ],
      "execution_count": 0,
      "outputs": []
    },
    {
      "metadata": {
        "id": "CvQTN9_JwMfp",
        "colab_type": "code",
        "colab": {}
      },
      "cell_type": "code",
      "source": [
        "X_train, X_test, y_train, y_test = train_test_split(data, label, test_size=0.23, random_state=42,shuffle=True)"
      ],
      "execution_count": 0,
      "outputs": []
    },
    {
      "metadata": {
        "id": "nWjulPE2ejbq",
        "colab_type": "code",
        "colab": {
          "base_uri": "https://localhost:8080/",
          "height": 350
        },
        "outputId": "1cec8eef-ba6a-4ae6-8668-4f8a0f100045"
      },
      "cell_type": "code",
      "source": [
        "plt.imshow(X_train[4])\n",
        "plt.show()"
      ],
      "execution_count": 132,
      "outputs": [
        {
          "output_type": "display_data",
          "data": {
            "image/png": "[encoded data removed]",
            "text/plain": [
              "<matplotlib.figure.Figure at 0x7fabf0ca79b0>"
            ]
          },
          "metadata": {
            "tags": []
          }
        }
      ]
    },
    {
      "metadata": {
        "id": "B3hmOpgCenFW",
        "colab_type": "code",
        "colab": {}
      },
      "cell_type": "code",
      "source": [
        "# convert the labels from integers to vectors\n",
        "y_train = to_categorical(y_train, num_classes=2)\n",
        "y_test = to_categorical(y_test, num_classes=2)"
      ],
      "execution_count": 0,
      "outputs": []
    },
    {
      "metadata": {
        "id": "rrSwsIIrjii8",
        "colab_type": "code",
        "colab": {}
      },
      "cell_type": "code",
      "source": [
        "# initialize the number of epochs to train for, initial learning rate, and batch size.\n",
        "EPOCHS = 25\n",
        "INIT_LR = 1e-3\n",
        "BS = 32\n",
        "random.seed(42)"
      ],
      "execution_count": 0,
      "outputs": []
    },
    {
      "metadata": {
        "id": "Q35Yk-nblXof",
        "colab_type": "code",
        "colab": {
          "base_uri": "https://localhost:8080/",
          "height": 510
        },
        "outputId": "ccddd978-7342-4333-eb82-88b34b8cadfe"
      },
      "cell_type": "code",
      "source": [
        "model.summary()"
      ],
      "execution_count": 135,
      "outputs": [
        {
          "output_type": "stream",
          "text": [
            "_________________________________________________________________\n",
            "Layer (type)                 Output Shape              Param #   \n",
            "=================================================================\n",
            "conv2d_5 (Conv2D)            (None, 112, 112, 20)      1520      \n",
            "_________________________________________________________________\n",
            "activation_9 (Activation)    (None, 112, 112, 20)      0         \n",
            "_________________________________________________________________\n",
            "max_pooling2d_5 (MaxPooling2 (None, 56, 56, 20)        0         \n",
            "_________________________________________________________________\n",
            "conv2d_6 (Conv2D)            (None, 56, 56, 50)        25050     \n",
            "_________________________________________________________________\n",
            "activation_10 (Activation)   (None, 56, 56, 50)        0         \n",
            "_________________________________________________________________\n",
            "max_pooling2d_6 (MaxPooling2 (None, 28, 28, 50)        0         \n",
            "_________________________________________________________________\n",
            "flatten_3 (Flatten)          (None, 39200)             0         \n",
            "_________________________________________________________________\n",
            "dense_5 (Dense)              (None, 500)               19600500  \n",
            "_________________________________________________________________\n",
            "activation_11 (Activation)   (None, 500)               0         \n",
            "_________________________________________________________________\n",
            "dense_6 (Dense)              (None, 2)                 1002      \n",
            "_________________________________________________________________\n",
            "activation_12 (Activation)   (None, 2)                 0         \n",
            "=================================================================\n",
            "Total params: 19,628,072\n",
            "Trainable params: 19,628,072\n",
            "Non-trainable params: 0\n",
            "_________________________________________________________________\n"
          ],
          "name": "stdout"
        }
      ]
    },
    {
      "metadata": {
        "id": "fI7eFXPVlhuP",
        "colab_type": "code",
        "colab": {
          "base_uri": "https://localhost:8080/",
          "height": 34
        },
        "outputId": "bc7f6a5a-1038-4443-bd3e-0dca9183a699"
      },
      "cell_type": "code",
      "source": [
        "X_train.shape"
      ],
      "execution_count": 136,
      "outputs": [
        {
          "output_type": "execute_result",
          "data": {
            "text/plain": [
              "(709, 112, 112, 3)"
            ]
          },
          "metadata": {
            "tags": []
          },
          "execution_count": 136
        }
      ]
    },
    {
      "metadata": {
        "id": "26PihsoPi3Mj",
        "colab_type": "code",
        "colab": {
          "base_uri": "https://localhost:8080/",
          "height": 34
        },
        "outputId": "59c8537c-d080-41f8-d123-afc21990316c"
      },
      "cell_type": "code",
      "source": [
        "# initialize the model\n",
        "print(\"[INFO] compiling model...\")\n",
        "model = LeNet.build(width=112, height=112, depth=3, classes=2)\n",
        "opt = Adam(lr=INIT_LR, decay=INIT_LR / EPOCHS)\n",
        "model.compile(loss=\"binary_crossentropy\", optimizer=opt, metrics=[\"accuracy\"])"
      ],
      "execution_count": 137,
      "outputs": [
        {
          "output_type": "stream",
          "text": [
            "[INFO] compiling model...\n"
          ],
          "name": "stdout"
        }
      ]
    },
    {
      "metadata": {
        "id": "AUeuiEzJjWfY",
        "colab_type": "code",
        "colab": {
          "base_uri": "https://localhost:8080/",
          "height": 901
        },
        "outputId": "90975e34-f89a-4c21-db53-76a333204939"
      },
      "cell_type": "code",
      "source": [
        "# train the network\n",
        "print(\"[INFO] training network...\")\n",
        "history = model.fit(X_train, y_train, batch_size=BS,validation_split=0.15,epochs=EPOCHS, verbose=2)"
      ],
      "execution_count": 140,
      "outputs": [
        {
          "output_type": "stream",
          "text": [
            "[INFO] training network...\n",
            "Train on 602 samples, validate on 107 samples\n",
            "Epoch 1/25\n",
            " - 4s - loss: 2.3703 - acc: 0.5216 - val_loss: 0.5952 - val_acc: 0.5140\n",
            "Epoch 2/25\n",
            " - 1s - loss: 0.5418 - acc: 0.7458 - val_loss: 0.3790 - val_acc: 0.8224\n",
            "Epoch 3/25\n",
            " - 1s - loss: 0.4002 - acc: 0.8538 - val_loss: 0.4267 - val_acc: 0.8224\n",
            "Epoch 4/25\n",
            " - 1s - loss: 0.2423 - acc: 0.9203 - val_loss: 0.6883 - val_acc: 0.7944\n",
            "Epoch 5/25\n",
            " - 1s - loss: 0.2504 - acc: 0.9219 - val_loss: 0.2724 - val_acc: 0.8879\n",
            "Epoch 6/25\n",
            " - 1s - loss: 0.1872 - acc: 0.9385 - val_loss: 0.2395 - val_acc: 0.8879\n",
            "Epoch 7/25\n",
            " - 1s - loss: 0.1103 - acc: 0.9651 - val_loss: 0.2666 - val_acc: 0.8879\n",
            "Epoch 8/25\n",
            " - 1s - loss: 0.0844 - acc: 0.9751 - val_loss: 0.2349 - val_acc: 0.9065\n",
            "Epoch 9/25\n",
            " - 1s - loss: 0.0756 - acc: 0.9767 - val_loss: 0.2642 - val_acc: 0.9159\n",
            "Epoch 10/25\n",
            " - 1s - loss: 0.0251 - acc: 0.9967 - val_loss: 0.2491 - val_acc: 0.9252\n",
            "Epoch 11/25\n",
            " - 1s - loss: 0.0124 - acc: 0.9967 - val_loss: 0.2113 - val_acc: 0.9346\n",
            "Epoch 12/25\n",
            " - 1s - loss: 0.0069 - acc: 0.9983 - val_loss: 0.2234 - val_acc: 0.9346\n",
            "Epoch 13/25\n",
            " - 1s - loss: 0.0026 - acc: 1.0000 - val_loss: 0.2428 - val_acc: 0.9252\n",
            "Epoch 14/25\n",
            " - 1s - loss: 0.0021 - acc: 1.0000 - val_loss: 0.3513 - val_acc: 0.9252\n",
            "Epoch 15/25\n",
            " - 1s - loss: 0.0027 - acc: 1.0000 - val_loss: 0.3045 - val_acc: 0.9346\n",
            "Epoch 16/25\n",
            " - 1s - loss: 0.0010 - acc: 1.0000 - val_loss: 0.2475 - val_acc: 0.9346\n",
            "Epoch 17/25\n",
            " - 1s - loss: 5.6101e-04 - acc: 1.0000 - val_loss: 0.2930 - val_acc: 0.9252\n",
            "Epoch 18/25\n",
            " - 1s - loss: 3.7683e-04 - acc: 1.0000 - val_loss: 0.3142 - val_acc: 0.9252\n",
            "Epoch 19/25\n",
            " - 1s - loss: 2.9215e-04 - acc: 1.0000 - val_loss: 0.3278 - val_acc: 0.9252\n",
            "Epoch 20/25\n",
            " - 1s - loss: 2.3965e-04 - acc: 1.0000 - val_loss: 0.3257 - val_acc: 0.9252\n",
            "Epoch 21/25\n",
            " - 1s - loss: 1.9843e-04 - acc: 1.0000 - val_loss: 0.3455 - val_acc: 0.9252\n",
            "Epoch 22/25\n",
            " - 1s - loss: 1.6659e-04 - acc: 1.0000 - val_loss: 0.3474 - val_acc: 0.9252\n",
            "Epoch 23/25\n",
            " - 1s - loss: 1.4505e-04 - acc: 1.0000 - val_loss: 0.3593 - val_acc: 0.9252\n",
            "Epoch 24/25\n",
            " - 1s - loss: 1.2500e-04 - acc: 1.0000 - val_loss: 0.3702 - val_acc: 0.9252\n",
            "Epoch 25/25\n",
            " - 1s - loss: 1.1515e-04 - acc: 1.0000 - val_loss: 0.3609 - val_acc: 0.9252\n"
          ],
          "name": "stdout"
        }
      ]
    },
    {
      "metadata": {
        "id": "HD314o4KkdzJ",
        "colab_type": "code",
        "colab": {
          "base_uri": "https://localhost:8080/",
          "height": 51
        },
        "outputId": "404d7189-f596-4e5a-a2da-d9c99bb31d9c"
      },
      "cell_type": "code",
      "source": [
        "scores = model.evaluate(X_test, y_test, verbose=2)\n",
        "print(\"\\nAccuracy: %.2f%%\" % (scores[1]*100))"
      ],
      "execution_count": 141,
      "outputs": [
        {
          "output_type": "stream",
          "text": [
            "\n",
            "Accuracy: 88.26%\n"
          ],
          "name": "stdout"
        }
      ]
    },
    {
      "metadata": {
        "id": "UgCCAHR0s1rS",
        "colab_type": "code",
        "colab": {
          "base_uri": "https://localhost:8080/",
          "height": 658
        },
        "outputId": "35ea9e4a-d0ae-492a-e857-e0e77d9a6a42"
      },
      "cell_type": "code",
      "source": [
        "# plot the training loss and accuracy\n",
        "plt.style.use(\"ggplot\")\n",
        "plt.figure()\n",
        "N = EPOCHS\n",
        "plt.plot(np.arange(0, N), history.history[\"loss\"], label=\"train_loss\")\n",
        "plt.plot(np.arange(0, N), history.history[\"val_loss\"], label=\"val_loss\")\n",
        "plt.plot(np.arange(0, N), history.history[\"acc\"], label=\"train_acc\")\n",
        "plt.plot(np.arange(0, N), history.history[\"val_acc\"], label=\"val_acc\")\n",
        "plt.title(\"Training Loss and Accuracy on Santa/Not Santa\")\n",
        "plt.xlabel(\"Epoch #\")\n",
        "plt.ylabel(\"Loss/Accuracy\")\n",
        "plt.legend(loc=\"top right\")\n",
        "plt.show()"
      ],
      "execution_count": 144,
      "outputs": [
        {
          "output_type": "stream",
          "text": [
            "/usr/local/lib/python3.6/dist-packages/matplotlib/legend.py:638: UserWarning: Unrecognized location \"top right\". Falling back on \"best\"; valid locations are\n",
            "\tbest\n",
            "\tupper right\n",
            "\tupper left\n",
            "\tlower left\n",
            "\tlower right\n",
            "\tright\n",
            "\tcenter left\n",
            "\tcenter right\n",
            "\tlower center\n",
            "\tupper center\n",
            "\tcenter\n",
            "\n",
            "  % (loc, '\\n\\t'.join(self.codes)))\n"
          ],
          "name": "stderr"
        },
        {
          "output_type": "display_data",
          "data": {
            "image/png": "[encoded data removed]",
            "text/plain": [
              "<matplotlib.figure.Figure at 0x7fabd6f49278>"
            ]
          },
          "metadata": {
            "tags": []
          }
        }
      ]
    },
    {
      "metadata": {
        "id": "gqe2TGtKtFV8",
        "colab_type": "code",
        "colab": {}
      },
      "cell_type": "code",
      "source": [
        ""
      ],
      "execution_count": 0,
      "outputs": []
    }
  ]
}